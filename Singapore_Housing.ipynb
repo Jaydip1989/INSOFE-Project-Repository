{
 "cells": [
  {
   "cell_type": "code",
   "execution_count": 1,
   "metadata": {},
   "outputs": [],
   "source": [
    "import numpy as np\n",
    "import pandas as pd\n",
    "import matplotlib.pyplot as plt\n",
    "import seaborn as sns\n",
    "%matplotlib inline\n",
    "from datetime import datetime,timedelta,date\n",
    "\n",
    "import warnings\n",
    "warnings.filterwarnings(\"ignore\")"
   ]
  },
  {
   "cell_type": "code",
   "execution_count": 2,
   "metadata": {},
   "outputs": [],
   "source": [
    "train1 = pd.read_csv(\"train1-1568365584614.csv\",header=0,parse_dates=['month'])\n",
    "train2 = pd.read_csv(\"train2-1568365601370.csv\",header =0,parse_dates=['month'])\n",
    "train3 = pd.read_csv(\"train3-1568365612890.csv\",header=0,parse_dates=['month'])\n",
    "building_mt_d = pd.read_csv(\"building_to_mrt_distance-1568365651170.csv\",header = 0)\n",
    "test = pd.read_csv(\"test-1568365637039.csv\",header=0,parse_dates=['month']) "
   ]
  },
  {
   "cell_type": "code",
   "execution_count": 3,
   "metadata": {},
   "outputs": [],
   "source": [
    "frames = [train1,train2,train3]\n",
    "data = pd.concat(frames,axis=0)"
   ]
  },
  {
   "cell_type": "code",
   "execution_count": 4,
   "metadata": {},
   "outputs": [
    {
     "data": {
      "text/html": [
       "<div>\n",
       "<style scoped>\n",
       "    .dataframe tbody tr th:only-of-type {\n",
       "        vertical-align: middle;\n",
       "    }\n",
       "\n",
       "    .dataframe tbody tr th {\n",
       "        vertical-align: top;\n",
       "    }\n",
       "\n",
       "    .dataframe thead th {\n",
       "        text-align: right;\n",
       "    }\n",
       "</style>\n",
       "<table border=\"1\" class=\"dataframe\">\n",
       "  <thead>\n",
       "    <tr style=\"text-align: right;\">\n",
       "      <th></th>\n",
       "      <th>block</th>\n",
       "      <th>flat_model</th>\n",
       "      <th>flat_type</th>\n",
       "      <th>floor_area_sqm</th>\n",
       "      <th>lease_commence_date</th>\n",
       "      <th>month</th>\n",
       "      <th>remaining_lease</th>\n",
       "      <th>resale_price</th>\n",
       "      <th>storey_range</th>\n",
       "      <th>street_name</th>\n",
       "      <th>town</th>\n",
       "      <th>uniqueID</th>\n",
       "    </tr>\n",
       "  </thead>\n",
       "  <tbody>\n",
       "    <tr>\n",
       "      <td>0</td>\n",
       "      <td>172</td>\n",
       "      <td>Improved</td>\n",
       "      <td>2 ROOM</td>\n",
       "      <td>45.0</td>\n",
       "      <td>1986</td>\n",
       "      <td>2012-03-01</td>\n",
       "      <td>NaN</td>\n",
       "      <td>250000.0</td>\n",
       "      <td>06 TO 10</td>\n",
       "      <td>ANG MO KIO AVE 4</td>\n",
       "      <td>ANG MO KIO</td>\n",
       "      <td>100000</td>\n",
       "    </tr>\n",
       "    <tr>\n",
       "      <td>1</td>\n",
       "      <td>510</td>\n",
       "      <td>Improved</td>\n",
       "      <td>2 ROOM</td>\n",
       "      <td>44.0</td>\n",
       "      <td>1980</td>\n",
       "      <td>2012-03-01</td>\n",
       "      <td>NaN</td>\n",
       "      <td>265000.0</td>\n",
       "      <td>01 TO 05</td>\n",
       "      <td>ANG MO KIO AVE 8</td>\n",
       "      <td>ANG MO KIO</td>\n",
       "      <td>100001</td>\n",
       "    </tr>\n",
       "    <tr>\n",
       "      <td>2</td>\n",
       "      <td>610</td>\n",
       "      <td>New Generation</td>\n",
       "      <td>3 ROOM</td>\n",
       "      <td>68.0</td>\n",
       "      <td>1980</td>\n",
       "      <td>2012-03-01</td>\n",
       "      <td>NaN</td>\n",
       "      <td>315000.0</td>\n",
       "      <td>06 TO 10</td>\n",
       "      <td>ANG MO KIO AVE 4</td>\n",
       "      <td>ANG MO KIO</td>\n",
       "      <td>100002</td>\n",
       "    </tr>\n",
       "    <tr>\n",
       "      <td>3</td>\n",
       "      <td>474</td>\n",
       "      <td>New Generation</td>\n",
       "      <td>3 ROOM</td>\n",
       "      <td>67.0</td>\n",
       "      <td>1984</td>\n",
       "      <td>2012-03-01</td>\n",
       "      <td>NaN</td>\n",
       "      <td>320000.0</td>\n",
       "      <td>01 TO 05</td>\n",
       "      <td>ANG MO KIO AVE 10</td>\n",
       "      <td>ANG MO KIO</td>\n",
       "      <td>100003</td>\n",
       "    </tr>\n",
       "    <tr>\n",
       "      <td>4</td>\n",
       "      <td>604</td>\n",
       "      <td>New Generation</td>\n",
       "      <td>3 ROOM</td>\n",
       "      <td>67.0</td>\n",
       "      <td>1980</td>\n",
       "      <td>2012-03-01</td>\n",
       "      <td>NaN</td>\n",
       "      <td>321000.0</td>\n",
       "      <td>06 TO 10</td>\n",
       "      <td>ANG MO KIO AVE 5</td>\n",
       "      <td>ANG MO KIO</td>\n",
       "      <td>100004</td>\n",
       "    </tr>\n",
       "    <tr>\n",
       "      <td>...</td>\n",
       "      <td>...</td>\n",
       "      <td>...</td>\n",
       "      <td>...</td>\n",
       "      <td>...</td>\n",
       "      <td>...</td>\n",
       "      <td>...</td>\n",
       "      <td>...</td>\n",
       "      <td>...</td>\n",
       "      <td>...</td>\n",
       "      <td>...</td>\n",
       "      <td>...</td>\n",
       "      <td>...</td>\n",
       "    </tr>\n",
       "    <tr>\n",
       "      <td>32573</td>\n",
       "      <td>325</td>\n",
       "      <td>Maisonette</td>\n",
       "      <td>EXECUTIVE</td>\n",
       "      <td>146.0</td>\n",
       "      <td>1988</td>\n",
       "      <td>2018-07-01</td>\n",
       "      <td>69 years 05 months</td>\n",
       "      <td>538000.0</td>\n",
       "      <td>04 TO 06</td>\n",
       "      <td>YISHUN CTRL</td>\n",
       "      <td>YISHUN</td>\n",
       "      <td>221929</td>\n",
       "    </tr>\n",
       "    <tr>\n",
       "      <td>32574</td>\n",
       "      <td>355</td>\n",
       "      <td>Maisonette</td>\n",
       "      <td>EXECUTIVE</td>\n",
       "      <td>146.0</td>\n",
       "      <td>1988</td>\n",
       "      <td>2018-07-01</td>\n",
       "      <td>69 years 04 months</td>\n",
       "      <td>590000.0</td>\n",
       "      <td>01 TO 03</td>\n",
       "      <td>YISHUN RING RD</td>\n",
       "      <td>YISHUN</td>\n",
       "      <td>221930</td>\n",
       "    </tr>\n",
       "    <tr>\n",
       "      <td>32575</td>\n",
       "      <td>614</td>\n",
       "      <td>Apartment</td>\n",
       "      <td>EXECUTIVE</td>\n",
       "      <td>142.0</td>\n",
       "      <td>1987</td>\n",
       "      <td>2018-07-01</td>\n",
       "      <td>67 years 10 months</td>\n",
       "      <td>620888.0</td>\n",
       "      <td>04 TO 06</td>\n",
       "      <td>YISHUN ST 61</td>\n",
       "      <td>YISHUN</td>\n",
       "      <td>221931</td>\n",
       "    </tr>\n",
       "    <tr>\n",
       "      <td>32576</td>\n",
       "      <td>834</td>\n",
       "      <td>Maisonette</td>\n",
       "      <td>EXECUTIVE</td>\n",
       "      <td>146.0</td>\n",
       "      <td>1988</td>\n",
       "      <td>2018-07-01</td>\n",
       "      <td>68 years 06 months</td>\n",
       "      <td>650000.0</td>\n",
       "      <td>10 TO 12</td>\n",
       "      <td>YISHUN ST 81</td>\n",
       "      <td>YISHUN</td>\n",
       "      <td>221932</td>\n",
       "    </tr>\n",
       "    <tr>\n",
       "      <td>32577</td>\n",
       "      <td>666</td>\n",
       "      <td>Multi Generation</td>\n",
       "      <td>MULTI-GENERATION</td>\n",
       "      <td>164.0</td>\n",
       "      <td>1987</td>\n",
       "      <td>2018-07-01</td>\n",
       "      <td>68 years 06 months</td>\n",
       "      <td>770000.0</td>\n",
       "      <td>10 TO 12</td>\n",
       "      <td>YISHUN AVE 4</td>\n",
       "      <td>YISHUN</td>\n",
       "      <td>221933</td>\n",
       "    </tr>\n",
       "  </tbody>\n",
       "</table>\n",
       "<p>121934 rows × 12 columns</p>\n",
       "</div>"
      ],
      "text/plain": [
       "      block        flat_model         flat_type  floor_area_sqm  \\\n",
       "0       172          Improved            2 ROOM            45.0   \n",
       "1       510          Improved            2 ROOM            44.0   \n",
       "2       610    New Generation            3 ROOM            68.0   \n",
       "3       474    New Generation            3 ROOM            67.0   \n",
       "4       604    New Generation            3 ROOM            67.0   \n",
       "...     ...               ...               ...             ...   \n",
       "32573   325        Maisonette         EXECUTIVE           146.0   \n",
       "32574   355        Maisonette         EXECUTIVE           146.0   \n",
       "32575   614         Apartment         EXECUTIVE           142.0   \n",
       "32576   834        Maisonette         EXECUTIVE           146.0   \n",
       "32577   666  Multi Generation  MULTI-GENERATION           164.0   \n",
       "\n",
       "       lease_commence_date      month     remaining_lease  resale_price  \\\n",
       "0                     1986 2012-03-01                 NaN      250000.0   \n",
       "1                     1980 2012-03-01                 NaN      265000.0   \n",
       "2                     1980 2012-03-01                 NaN      315000.0   \n",
       "3                     1984 2012-03-01                 NaN      320000.0   \n",
       "4                     1980 2012-03-01                 NaN      321000.0   \n",
       "...                    ...        ...                 ...           ...   \n",
       "32573                 1988 2018-07-01  69 years 05 months      538000.0   \n",
       "32574                 1988 2018-07-01  69 years 04 months      590000.0   \n",
       "32575                 1987 2018-07-01  67 years 10 months      620888.0   \n",
       "32576                 1988 2018-07-01  68 years 06 months      650000.0   \n",
       "32577                 1987 2018-07-01  68 years 06 months      770000.0   \n",
       "\n",
       "      storey_range        street_name        town  uniqueID  \n",
       "0         06 TO 10   ANG MO KIO AVE 4  ANG MO KIO    100000  \n",
       "1         01 TO 05   ANG MO KIO AVE 8  ANG MO KIO    100001  \n",
       "2         06 TO 10   ANG MO KIO AVE 4  ANG MO KIO    100002  \n",
       "3         01 TO 05  ANG MO KIO AVE 10  ANG MO KIO    100003  \n",
       "4         06 TO 10   ANG MO KIO AVE 5  ANG MO KIO    100004  \n",
       "...            ...                ...         ...       ...  \n",
       "32573     04 TO 06        YISHUN CTRL      YISHUN    221929  \n",
       "32574     01 TO 03     YISHUN RING RD      YISHUN    221930  \n",
       "32575     04 TO 06       YISHUN ST 61      YISHUN    221931  \n",
       "32576     10 TO 12       YISHUN ST 81      YISHUN    221932  \n",
       "32577     10 TO 12       YISHUN AVE 4      YISHUN    221933  \n",
       "\n",
       "[121934 rows x 12 columns]"
      ]
     },
     "execution_count": 4,
     "metadata": {},
     "output_type": "execute_result"
    }
   ],
   "source": [
    "data"
   ]
  },
  {
   "cell_type": "code",
   "execution_count": 5,
   "metadata": {},
   "outputs": [],
   "source": [
    "data.to_csv(\"data.csv\")"
   ]
  },
  {
   "cell_type": "code",
   "execution_count": 6,
   "metadata": {},
   "outputs": [
    {
     "data": {
      "text/plain": [
       "['block',\n",
       " 'flat_model',\n",
       " 'flat_type',\n",
       " 'floor_area_sqm',\n",
       " 'lease_commence_date',\n",
       " 'month',\n",
       " 'remaining_lease',\n",
       " 'resale_price',\n",
       " 'storey_range',\n",
       " 'street_name',\n",
       " 'town',\n",
       " 'uniqueID']"
      ]
     },
     "execution_count": 6,
     "metadata": {},
     "output_type": "execute_result"
    }
   ],
   "source": [
    "data.columns.tolist()"
   ]
  },
  {
   "cell_type": "code",
   "execution_count": 7,
   "metadata": {},
   "outputs": [
    {
     "data": {
      "text/plain": [
       "['month',\n",
       " 'town',\n",
       " 'flat_type',\n",
       " 'block',\n",
       " 'street_name',\n",
       " 'storey_range',\n",
       " 'floor_area_sqm',\n",
       " 'flat_model',\n",
       " 'lease_commence_date',\n",
       " 'remaining_lease',\n",
       " 'uniqueID']"
      ]
     },
     "execution_count": 7,
     "metadata": {},
     "output_type": "execute_result"
    }
   ],
   "source": [
    "test.columns.tolist()"
   ]
  },
  {
   "cell_type": "code",
   "execution_count": 8,
   "metadata": {},
   "outputs": [],
   "source": [
    "columns_check=[]\n",
    "for i in test.columns.tolist():\n",
    "    if i in data.columns.tolist():\n",
    "        columns_check.append(i)"
   ]
  },
  {
   "cell_type": "code",
   "execution_count": 9,
   "metadata": {},
   "outputs": [
    {
     "data": {
      "text/plain": [
       "['month',\n",
       " 'town',\n",
       " 'flat_type',\n",
       " 'block',\n",
       " 'street_name',\n",
       " 'storey_range',\n",
       " 'floor_area_sqm',\n",
       " 'flat_model',\n",
       " 'lease_commence_date',\n",
       " 'remaining_lease',\n",
       " 'uniqueID']"
      ]
     },
     "execution_count": 9,
     "metadata": {},
     "output_type": "execute_result"
    }
   ],
   "source": [
    "columns_check"
   ]
  },
  {
   "cell_type": "code",
   "execution_count": 10,
   "metadata": {},
   "outputs": [],
   "source": [
    "columns_check=[]\n",
    "for i in data.columns.tolist():\n",
    "    if i not in test.columns.tolist():\n",
    "        columns_check.append(i)"
   ]
  },
  {
   "cell_type": "code",
   "execution_count": 11,
   "metadata": {},
   "outputs": [
    {
     "data": {
      "text/plain": [
       "['resale_price']"
      ]
     },
     "execution_count": 11,
     "metadata": {},
     "output_type": "execute_result"
    }
   ],
   "source": [
    "columns_check"
   ]
  },
  {
   "cell_type": "code",
   "execution_count": 12,
   "metadata": {},
   "outputs": [
    {
     "data": {
      "text/plain": [
       "block                    2216\n",
       "flat_model                 21\n",
       "flat_type                   7\n",
       "floor_area_sqm            170\n",
       "lease_commence_date        51\n",
       "month                      77\n",
       "remaining_lease           642\n",
       "resale_price             2965\n",
       "storey_range               25\n",
       "street_name               527\n",
       "town                       26\n",
       "uniqueID               121934\n",
       "dtype: int64"
      ]
     },
     "execution_count": 12,
     "metadata": {},
     "output_type": "execute_result"
    }
   ],
   "source": [
    "data.nunique()"
   ]
  },
  {
   "cell_type": "code",
   "execution_count": 13,
   "metadata": {},
   "outputs": [
    {
     "data": {
      "text/plain": [
       "month                     12\n",
       "town                      26\n",
       "flat_type                  7\n",
       "block                   2193\n",
       "street_name              532\n",
       "storey_range              17\n",
       "floor_area_sqm           146\n",
       "flat_model                19\n",
       "lease_commence_date       51\n",
       "remaining_lease          600\n",
       "uniqueID               21846\n",
       "dtype: int64"
      ]
     },
     "execution_count": 13,
     "metadata": {},
     "output_type": "execute_result"
    }
   ],
   "source": [
    "test.nunique()"
   ]
  },
  {
   "cell_type": "code",
   "execution_count": 14,
   "metadata": {},
   "outputs": [
    {
     "data": {
      "text/plain": [
       "Model A                   35539\n",
       "Improved                  31362\n",
       "New Generation            20579\n",
       "Premium Apartment         11851\n",
       "Simplified                 6387\n",
       "Apartment                  5014\n",
       "Standard                   4253\n",
       "Maisonette                 3446\n",
       "Model A2                   1854\n",
       "DBSS                        797\n",
       "Type S1                     209\n",
       "Adjoined flat               192\n",
       "Model A-Maisonette          191\n",
       "Type S2                      95\n",
       "Terrace                      74\n",
       "Multi Generation             34\n",
       "Premium Apartment.           22\n",
       "Improved-Maisonette          18\n",
       "Premium Maisonette            9\n",
       "Premium Apartment Loft        7\n",
       "2-room                        1\n",
       "Name: flat_model, dtype: int64"
      ]
     },
     "execution_count": 14,
     "metadata": {},
     "output_type": "execute_result"
    }
   ],
   "source": [
    "data['flat_model'].value_counts()"
   ]
  },
  {
   "cell_type": "code",
   "execution_count": 15,
   "metadata": {},
   "outputs": [
    {
     "data": {
      "text/plain": [
       "Model A                   7370\n",
       "Improved                  5525\n",
       "New Generation            3084\n",
       "Premium Apartment         1947\n",
       "Simplified                 922\n",
       "Apartment                  816\n",
       "Maisonette                 655\n",
       "Standard                   600\n",
       "Model A2                   298\n",
       "DBSS                       259\n",
       "Premium Apartment.         189\n",
       "Model A-Maisonette          43\n",
       "Adjoined flat               43\n",
       "Type S1                     30\n",
       "Multi Generation            21\n",
       "Type S2                     18\n",
       "Terrace                     17\n",
       "Improved-Maisonette          5\n",
       "Premium Apartment Loft       4\n",
       "Name: flat_model, dtype: int64"
      ]
     },
     "execution_count": 15,
     "metadata": {},
     "output_type": "execute_result"
    }
   ],
   "source": [
    "test['flat_model'].value_counts()"
   ]
  },
  {
   "cell_type": "code",
   "execution_count": 16,
   "metadata": {},
   "outputs": [],
   "source": [
    "data1 = data.copy()\n",
    "test1 = test.copy()"
   ]
  },
  {
   "cell_type": "code",
   "execution_count": 19,
   "metadata": {},
   "outputs": [
    {
     "data": {
      "text/plain": [
       "'\"\"plt.figure(figsize=(10,6))\\nplt.bar(data1[\\'flat_model\\'],data1[\\'resale_price\\'],color=\"orange\")\\nplt.xticks(label=\"Flat Model\",rotation=90)\\nplt.ylabel(\"Resale Price\")\\nplt.show()'"
      ]
     },
     "execution_count": 19,
     "metadata": {},
     "output_type": "execute_result"
    }
   ],
   "source": [
    "\"\"\"\"\"plt.figure(figsize=(10,6))\n",
    "plt.bar(data1['flat_model'],data1['resale_price'],color=\"orange\")\n",
    "plt.xticks(label=\"Flat Model\",rotation=90)\n",
    "plt.ylabel(\"Resale Price\")\n",
    "plt.show()\"\"\"\"\""
   ]
  },
  {
   "cell_type": "code",
   "execution_count": 20,
   "metadata": {
    "scrolled": true
   },
   "outputs": [
    {
     "data": {
      "text/html": [
       "<div>\n",
       "<style scoped>\n",
       "    .dataframe tbody tr th:only-of-type {\n",
       "        vertical-align: middle;\n",
       "    }\n",
       "\n",
       "    .dataframe tbody tr th {\n",
       "        vertical-align: top;\n",
       "    }\n",
       "\n",
       "    .dataframe thead th {\n",
       "        text-align: right;\n",
       "    }\n",
       "</style>\n",
       "<table border=\"1\" class=\"dataframe\">\n",
       "  <thead>\n",
       "    <tr style=\"text-align: right;\">\n",
       "      <th></th>\n",
       "      <th>block</th>\n",
       "      <th>flat_model</th>\n",
       "      <th>flat_type</th>\n",
       "      <th>floor_area_sqm</th>\n",
       "      <th>lease_commence_date</th>\n",
       "      <th>month</th>\n",
       "      <th>remaining_lease</th>\n",
       "      <th>resale_price</th>\n",
       "      <th>storey_range</th>\n",
       "      <th>street_name</th>\n",
       "      <th>town</th>\n",
       "      <th>uniqueID</th>\n",
       "    </tr>\n",
       "  </thead>\n",
       "  <tbody>\n",
       "    <tr>\n",
       "      <td>0</td>\n",
       "      <td>172</td>\n",
       "      <td>Improved</td>\n",
       "      <td>2 ROOM</td>\n",
       "      <td>45.0</td>\n",
       "      <td>1986</td>\n",
       "      <td>2012-03-01</td>\n",
       "      <td>NaN</td>\n",
       "      <td>250000.0</td>\n",
       "      <td>06 TO 10</td>\n",
       "      <td>ANG MO KIO AVE 4</td>\n",
       "      <td>ANG MO KIO</td>\n",
       "      <td>100000</td>\n",
       "    </tr>\n",
       "    <tr>\n",
       "      <td>1</td>\n",
       "      <td>510</td>\n",
       "      <td>Improved</td>\n",
       "      <td>2 ROOM</td>\n",
       "      <td>44.0</td>\n",
       "      <td>1980</td>\n",
       "      <td>2012-03-01</td>\n",
       "      <td>NaN</td>\n",
       "      <td>265000.0</td>\n",
       "      <td>01 TO 05</td>\n",
       "      <td>ANG MO KIO AVE 8</td>\n",
       "      <td>ANG MO KIO</td>\n",
       "      <td>100001</td>\n",
       "    </tr>\n",
       "    <tr>\n",
       "      <td>2</td>\n",
       "      <td>610</td>\n",
       "      <td>New Generation</td>\n",
       "      <td>3 ROOM</td>\n",
       "      <td>68.0</td>\n",
       "      <td>1980</td>\n",
       "      <td>2012-03-01</td>\n",
       "      <td>NaN</td>\n",
       "      <td>315000.0</td>\n",
       "      <td>06 TO 10</td>\n",
       "      <td>ANG MO KIO AVE 4</td>\n",
       "      <td>ANG MO KIO</td>\n",
       "      <td>100002</td>\n",
       "    </tr>\n",
       "    <tr>\n",
       "      <td>3</td>\n",
       "      <td>474</td>\n",
       "      <td>New Generation</td>\n",
       "      <td>3 ROOM</td>\n",
       "      <td>67.0</td>\n",
       "      <td>1984</td>\n",
       "      <td>2012-03-01</td>\n",
       "      <td>NaN</td>\n",
       "      <td>320000.0</td>\n",
       "      <td>01 TO 05</td>\n",
       "      <td>ANG MO KIO AVE 10</td>\n",
       "      <td>ANG MO KIO</td>\n",
       "      <td>100003</td>\n",
       "    </tr>\n",
       "    <tr>\n",
       "      <td>4</td>\n",
       "      <td>604</td>\n",
       "      <td>New Generation</td>\n",
       "      <td>3 ROOM</td>\n",
       "      <td>67.0</td>\n",
       "      <td>1980</td>\n",
       "      <td>2012-03-01</td>\n",
       "      <td>NaN</td>\n",
       "      <td>321000.0</td>\n",
       "      <td>06 TO 10</td>\n",
       "      <td>ANG MO KIO AVE 5</td>\n",
       "      <td>ANG MO KIO</td>\n",
       "      <td>100004</td>\n",
       "    </tr>\n",
       "  </tbody>\n",
       "</table>\n",
       "</div>"
      ],
      "text/plain": [
       "  block      flat_model flat_type  floor_area_sqm  lease_commence_date  \\\n",
       "0   172        Improved    2 ROOM            45.0                 1986   \n",
       "1   510        Improved    2 ROOM            44.0                 1980   \n",
       "2   610  New Generation    3 ROOM            68.0                 1980   \n",
       "3   474  New Generation    3 ROOM            67.0                 1984   \n",
       "4   604  New Generation    3 ROOM            67.0                 1980   \n",
       "\n",
       "       month remaining_lease  resale_price storey_range        street_name  \\\n",
       "0 2012-03-01             NaN      250000.0     06 TO 10   ANG MO KIO AVE 4   \n",
       "1 2012-03-01             NaN      265000.0     01 TO 05   ANG MO KIO AVE 8   \n",
       "2 2012-03-01             NaN      315000.0     06 TO 10   ANG MO KIO AVE 4   \n",
       "3 2012-03-01             NaN      320000.0     01 TO 05  ANG MO KIO AVE 10   \n",
       "4 2012-03-01             NaN      321000.0     06 TO 10   ANG MO KIO AVE 5   \n",
       "\n",
       "         town  uniqueID  \n",
       "0  ANG MO KIO    100000  \n",
       "1  ANG MO KIO    100001  \n",
       "2  ANG MO KIO    100002  \n",
       "3  ANG MO KIO    100003  \n",
       "4  ANG MO KIO    100004  "
      ]
     },
     "execution_count": 20,
     "metadata": {},
     "output_type": "execute_result"
    }
   ],
   "source": [
    "data1.head()"
   ]
  },
  {
   "cell_type": "code",
   "execution_count": 21,
   "metadata": {},
   "outputs": [],
   "source": [
    "data1 = data1.loc[(data1[\"flat_model\"]!=\"Improved-Maisonette\")&(data1[\"flat_model\"]!=\"Premium Maisonette\")&(data1[\"flat_model\"]!=\"Premium Apartment Loft\")&\n",
    "                 (data1[\"flat_model\"]!=\"2-room\"),:]"
   ]
  },
  {
   "cell_type": "code",
   "execution_count": 22,
   "metadata": {},
   "outputs": [
    {
     "data": {
      "text/html": [
       "<div>\n",
       "<style scoped>\n",
       "    .dataframe tbody tr th:only-of-type {\n",
       "        vertical-align: middle;\n",
       "    }\n",
       "\n",
       "    .dataframe tbody tr th {\n",
       "        vertical-align: top;\n",
       "    }\n",
       "\n",
       "    .dataframe thead th {\n",
       "        text-align: right;\n",
       "    }\n",
       "</style>\n",
       "<table border=\"1\" class=\"dataframe\">\n",
       "  <thead>\n",
       "    <tr style=\"text-align: right;\">\n",
       "      <th></th>\n",
       "      <th>block</th>\n",
       "      <th>flat_model</th>\n",
       "      <th>flat_type</th>\n",
       "      <th>floor_area_sqm</th>\n",
       "      <th>lease_commence_date</th>\n",
       "      <th>month</th>\n",
       "      <th>remaining_lease</th>\n",
       "      <th>resale_price</th>\n",
       "      <th>storey_range</th>\n",
       "      <th>street_name</th>\n",
       "      <th>town</th>\n",
       "      <th>uniqueID</th>\n",
       "    </tr>\n",
       "  </thead>\n",
       "  <tbody>\n",
       "    <tr>\n",
       "      <td>0</td>\n",
       "      <td>172</td>\n",
       "      <td>Improved</td>\n",
       "      <td>2 ROOM</td>\n",
       "      <td>45.0</td>\n",
       "      <td>1986</td>\n",
       "      <td>2012-03-01</td>\n",
       "      <td>NaN</td>\n",
       "      <td>250000.0</td>\n",
       "      <td>06 TO 10</td>\n",
       "      <td>ANG MO KIO AVE 4</td>\n",
       "      <td>ANG MO KIO</td>\n",
       "      <td>100000</td>\n",
       "    </tr>\n",
       "    <tr>\n",
       "      <td>1</td>\n",
       "      <td>510</td>\n",
       "      <td>Improved</td>\n",
       "      <td>2 ROOM</td>\n",
       "      <td>44.0</td>\n",
       "      <td>1980</td>\n",
       "      <td>2012-03-01</td>\n",
       "      <td>NaN</td>\n",
       "      <td>265000.0</td>\n",
       "      <td>01 TO 05</td>\n",
       "      <td>ANG MO KIO AVE 8</td>\n",
       "      <td>ANG MO KIO</td>\n",
       "      <td>100001</td>\n",
       "    </tr>\n",
       "    <tr>\n",
       "      <td>2</td>\n",
       "      <td>610</td>\n",
       "      <td>New Generation</td>\n",
       "      <td>3 ROOM</td>\n",
       "      <td>68.0</td>\n",
       "      <td>1980</td>\n",
       "      <td>2012-03-01</td>\n",
       "      <td>NaN</td>\n",
       "      <td>315000.0</td>\n",
       "      <td>06 TO 10</td>\n",
       "      <td>ANG MO KIO AVE 4</td>\n",
       "      <td>ANG MO KIO</td>\n",
       "      <td>100002</td>\n",
       "    </tr>\n",
       "    <tr>\n",
       "      <td>3</td>\n",
       "      <td>474</td>\n",
       "      <td>New Generation</td>\n",
       "      <td>3 ROOM</td>\n",
       "      <td>67.0</td>\n",
       "      <td>1984</td>\n",
       "      <td>2012-03-01</td>\n",
       "      <td>NaN</td>\n",
       "      <td>320000.0</td>\n",
       "      <td>01 TO 05</td>\n",
       "      <td>ANG MO KIO AVE 10</td>\n",
       "      <td>ANG MO KIO</td>\n",
       "      <td>100003</td>\n",
       "    </tr>\n",
       "    <tr>\n",
       "      <td>4</td>\n",
       "      <td>604</td>\n",
       "      <td>New Generation</td>\n",
       "      <td>3 ROOM</td>\n",
       "      <td>67.0</td>\n",
       "      <td>1980</td>\n",
       "      <td>2012-03-01</td>\n",
       "      <td>NaN</td>\n",
       "      <td>321000.0</td>\n",
       "      <td>06 TO 10</td>\n",
       "      <td>ANG MO KIO AVE 5</td>\n",
       "      <td>ANG MO KIO</td>\n",
       "      <td>100004</td>\n",
       "    </tr>\n",
       "    <tr>\n",
       "      <td>...</td>\n",
       "      <td>...</td>\n",
       "      <td>...</td>\n",
       "      <td>...</td>\n",
       "      <td>...</td>\n",
       "      <td>...</td>\n",
       "      <td>...</td>\n",
       "      <td>...</td>\n",
       "      <td>...</td>\n",
       "      <td>...</td>\n",
       "      <td>...</td>\n",
       "      <td>...</td>\n",
       "      <td>...</td>\n",
       "    </tr>\n",
       "    <tr>\n",
       "      <td>32573</td>\n",
       "      <td>325</td>\n",
       "      <td>Maisonette</td>\n",
       "      <td>EXECUTIVE</td>\n",
       "      <td>146.0</td>\n",
       "      <td>1988</td>\n",
       "      <td>2018-07-01</td>\n",
       "      <td>69 years 05 months</td>\n",
       "      <td>538000.0</td>\n",
       "      <td>04 TO 06</td>\n",
       "      <td>YISHUN CTRL</td>\n",
       "      <td>YISHUN</td>\n",
       "      <td>221929</td>\n",
       "    </tr>\n",
       "    <tr>\n",
       "      <td>32574</td>\n",
       "      <td>355</td>\n",
       "      <td>Maisonette</td>\n",
       "      <td>EXECUTIVE</td>\n",
       "      <td>146.0</td>\n",
       "      <td>1988</td>\n",
       "      <td>2018-07-01</td>\n",
       "      <td>69 years 04 months</td>\n",
       "      <td>590000.0</td>\n",
       "      <td>01 TO 03</td>\n",
       "      <td>YISHUN RING RD</td>\n",
       "      <td>YISHUN</td>\n",
       "      <td>221930</td>\n",
       "    </tr>\n",
       "    <tr>\n",
       "      <td>32575</td>\n",
       "      <td>614</td>\n",
       "      <td>Apartment</td>\n",
       "      <td>EXECUTIVE</td>\n",
       "      <td>142.0</td>\n",
       "      <td>1987</td>\n",
       "      <td>2018-07-01</td>\n",
       "      <td>67 years 10 months</td>\n",
       "      <td>620888.0</td>\n",
       "      <td>04 TO 06</td>\n",
       "      <td>YISHUN ST 61</td>\n",
       "      <td>YISHUN</td>\n",
       "      <td>221931</td>\n",
       "    </tr>\n",
       "    <tr>\n",
       "      <td>32576</td>\n",
       "      <td>834</td>\n",
       "      <td>Maisonette</td>\n",
       "      <td>EXECUTIVE</td>\n",
       "      <td>146.0</td>\n",
       "      <td>1988</td>\n",
       "      <td>2018-07-01</td>\n",
       "      <td>68 years 06 months</td>\n",
       "      <td>650000.0</td>\n",
       "      <td>10 TO 12</td>\n",
       "      <td>YISHUN ST 81</td>\n",
       "      <td>YISHUN</td>\n",
       "      <td>221932</td>\n",
       "    </tr>\n",
       "    <tr>\n",
       "      <td>32577</td>\n",
       "      <td>666</td>\n",
       "      <td>Multi Generation</td>\n",
       "      <td>MULTI-GENERATION</td>\n",
       "      <td>164.0</td>\n",
       "      <td>1987</td>\n",
       "      <td>2018-07-01</td>\n",
       "      <td>68 years 06 months</td>\n",
       "      <td>770000.0</td>\n",
       "      <td>10 TO 12</td>\n",
       "      <td>YISHUN AVE 4</td>\n",
       "      <td>YISHUN</td>\n",
       "      <td>221933</td>\n",
       "    </tr>\n",
       "  </tbody>\n",
       "</table>\n",
       "<p>121899 rows × 12 columns</p>\n",
       "</div>"
      ],
      "text/plain": [
       "      block        flat_model         flat_type  floor_area_sqm  \\\n",
       "0       172          Improved            2 ROOM            45.0   \n",
       "1       510          Improved            2 ROOM            44.0   \n",
       "2       610    New Generation            3 ROOM            68.0   \n",
       "3       474    New Generation            3 ROOM            67.0   \n",
       "4       604    New Generation            3 ROOM            67.0   \n",
       "...     ...               ...               ...             ...   \n",
       "32573   325        Maisonette         EXECUTIVE           146.0   \n",
       "32574   355        Maisonette         EXECUTIVE           146.0   \n",
       "32575   614         Apartment         EXECUTIVE           142.0   \n",
       "32576   834        Maisonette         EXECUTIVE           146.0   \n",
       "32577   666  Multi Generation  MULTI-GENERATION           164.0   \n",
       "\n",
       "       lease_commence_date      month     remaining_lease  resale_price  \\\n",
       "0                     1986 2012-03-01                 NaN      250000.0   \n",
       "1                     1980 2012-03-01                 NaN      265000.0   \n",
       "2                     1980 2012-03-01                 NaN      315000.0   \n",
       "3                     1984 2012-03-01                 NaN      320000.0   \n",
       "4                     1980 2012-03-01                 NaN      321000.0   \n",
       "...                    ...        ...                 ...           ...   \n",
       "32573                 1988 2018-07-01  69 years 05 months      538000.0   \n",
       "32574                 1988 2018-07-01  69 years 04 months      590000.0   \n",
       "32575                 1987 2018-07-01  67 years 10 months      620888.0   \n",
       "32576                 1988 2018-07-01  68 years 06 months      650000.0   \n",
       "32577                 1987 2018-07-01  68 years 06 months      770000.0   \n",
       "\n",
       "      storey_range        street_name        town  uniqueID  \n",
       "0         06 TO 10   ANG MO KIO AVE 4  ANG MO KIO    100000  \n",
       "1         01 TO 05   ANG MO KIO AVE 8  ANG MO KIO    100001  \n",
       "2         06 TO 10   ANG MO KIO AVE 4  ANG MO KIO    100002  \n",
       "3         01 TO 05  ANG MO KIO AVE 10  ANG MO KIO    100003  \n",
       "4         06 TO 10   ANG MO KIO AVE 5  ANG MO KIO    100004  \n",
       "...            ...                ...         ...       ...  \n",
       "32573     04 TO 06        YISHUN CTRL      YISHUN    221929  \n",
       "32574     01 TO 03     YISHUN RING RD      YISHUN    221930  \n",
       "32575     04 TO 06       YISHUN ST 61      YISHUN    221931  \n",
       "32576     10 TO 12       YISHUN ST 81      YISHUN    221932  \n",
       "32577     10 TO 12       YISHUN AVE 4      YISHUN    221933  \n",
       "\n",
       "[121899 rows x 12 columns]"
      ]
     },
     "execution_count": 22,
     "metadata": {},
     "output_type": "execute_result"
    }
   ],
   "source": [
    "data1"
   ]
  },
  {
   "cell_type": "code",
   "execution_count": 23,
   "metadata": {
    "scrolled": true
   },
   "outputs": [
    {
     "data": {
      "text/plain": [
       "Model A               35539\n",
       "Improved              31362\n",
       "New Generation        20579\n",
       "Premium Apartment     11851\n",
       "Simplified             6387\n",
       "Apartment              5014\n",
       "Standard               4253\n",
       "Maisonette             3446\n",
       "Model A2               1854\n",
       "DBSS                    797\n",
       "Type S1                 209\n",
       "Adjoined flat           192\n",
       "Model A-Maisonette      191\n",
       "Type S2                  95\n",
       "Terrace                  74\n",
       "Multi Generation         34\n",
       "Premium Apartment.       22\n",
       "Name: flat_model, dtype: int64"
      ]
     },
     "execution_count": 23,
     "metadata": {},
     "output_type": "execute_result"
    }
   ],
   "source": [
    "data1.flat_model.value_counts()"
   ]
  },
  {
   "cell_type": "code",
   "execution_count": 24,
   "metadata": {},
   "outputs": [],
   "source": [
    "test1 = test1.loc[(test1[\"flat_model\"]!=\"Improved-Maisonette\")&(test1[\"flat_model\"]!=\"Premium Apartment Loft\"),:]"
   ]
  },
  {
   "cell_type": "code",
   "execution_count": 25,
   "metadata": {},
   "outputs": [
    {
     "data": {
      "text/plain": [
       "Model A               7370\n",
       "Improved              5525\n",
       "New Generation        3084\n",
       "Premium Apartment     1947\n",
       "Simplified             922\n",
       "Apartment              816\n",
       "Maisonette             655\n",
       "Standard               600\n",
       "Model A2               298\n",
       "DBSS                   259\n",
       "Premium Apartment.     189\n",
       "Model A-Maisonette      43\n",
       "Adjoined flat           43\n",
       "Type S1                 30\n",
       "Multi Generation        21\n",
       "Type S2                 18\n",
       "Terrace                 17\n",
       "Name: flat_model, dtype: int64"
      ]
     },
     "execution_count": 25,
     "metadata": {},
     "output_type": "execute_result"
    }
   ],
   "source": [
    "test1.flat_model.value_counts()"
   ]
  },
  {
   "cell_type": "code",
   "execution_count": 26,
   "metadata": {},
   "outputs": [
    {
     "data": {
      "text/plain": [
       "77"
      ]
     },
     "execution_count": 26,
     "metadata": {},
     "output_type": "execute_result"
    }
   ],
   "source": [
    "data1.month.nunique()"
   ]
  },
  {
   "cell_type": "code",
   "execution_count": 27,
   "metadata": {},
   "outputs": [
    {
     "data": {
      "text/plain": [
       "12"
      ]
     },
     "execution_count": 27,
     "metadata": {},
     "output_type": "execute_result"
    }
   ],
   "source": [
    "test1.month.nunique()"
   ]
  },
  {
   "cell_type": "code",
   "execution_count": 28,
   "metadata": {},
   "outputs": [
    {
     "data": {
      "text/plain": [
       "2018-07-01    2537\n",
       "2012-03-01    2360\n",
       "2012-05-01    2323\n",
       "2012-07-01    2178\n",
       "2012-04-01    2155\n",
       "              ... \n",
       "2017-02-01    1080\n",
       "2018-01-01    1071\n",
       "2013-12-01    1008\n",
       "2014-02-01     959\n",
       "2013-02-01     886\n",
       "Name: month, Length: 77, dtype: int64"
      ]
     },
     "execution_count": 28,
     "metadata": {},
     "output_type": "execute_result"
    }
   ],
   "source": [
    "data1['month'].value_counts()"
   ]
  },
  {
   "cell_type": "code",
   "execution_count": 29,
   "metadata": {},
   "outputs": [],
   "source": [
    "data1['year'] = data1['month'].dt.year\n",
    "data1['month']=data1['month'].dt.month"
   ]
  },
  {
   "cell_type": "code",
   "execution_count": 30,
   "metadata": {},
   "outputs": [
    {
     "data": {
      "text/html": [
       "<div>\n",
       "<style scoped>\n",
       "    .dataframe tbody tr th:only-of-type {\n",
       "        vertical-align: middle;\n",
       "    }\n",
       "\n",
       "    .dataframe tbody tr th {\n",
       "        vertical-align: top;\n",
       "    }\n",
       "\n",
       "    .dataframe thead th {\n",
       "        text-align: right;\n",
       "    }\n",
       "</style>\n",
       "<table border=\"1\" class=\"dataframe\">\n",
       "  <thead>\n",
       "    <tr style=\"text-align: right;\">\n",
       "      <th></th>\n",
       "      <th>block</th>\n",
       "      <th>flat_model</th>\n",
       "      <th>flat_type</th>\n",
       "      <th>floor_area_sqm</th>\n",
       "      <th>lease_commence_date</th>\n",
       "      <th>month</th>\n",
       "      <th>remaining_lease</th>\n",
       "      <th>resale_price</th>\n",
       "      <th>storey_range</th>\n",
       "      <th>street_name</th>\n",
       "      <th>town</th>\n",
       "      <th>uniqueID</th>\n",
       "      <th>year</th>\n",
       "    </tr>\n",
       "  </thead>\n",
       "  <tbody>\n",
       "    <tr>\n",
       "      <td>0</td>\n",
       "      <td>172</td>\n",
       "      <td>Improved</td>\n",
       "      <td>2 ROOM</td>\n",
       "      <td>45.0</td>\n",
       "      <td>1986</td>\n",
       "      <td>3</td>\n",
       "      <td>NaN</td>\n",
       "      <td>250000.0</td>\n",
       "      <td>06 TO 10</td>\n",
       "      <td>ANG MO KIO AVE 4</td>\n",
       "      <td>ANG MO KIO</td>\n",
       "      <td>100000</td>\n",
       "      <td>2012</td>\n",
       "    </tr>\n",
       "    <tr>\n",
       "      <td>1</td>\n",
       "      <td>510</td>\n",
       "      <td>Improved</td>\n",
       "      <td>2 ROOM</td>\n",
       "      <td>44.0</td>\n",
       "      <td>1980</td>\n",
       "      <td>3</td>\n",
       "      <td>NaN</td>\n",
       "      <td>265000.0</td>\n",
       "      <td>01 TO 05</td>\n",
       "      <td>ANG MO KIO AVE 8</td>\n",
       "      <td>ANG MO KIO</td>\n",
       "      <td>100001</td>\n",
       "      <td>2012</td>\n",
       "    </tr>\n",
       "    <tr>\n",
       "      <td>2</td>\n",
       "      <td>610</td>\n",
       "      <td>New Generation</td>\n",
       "      <td>3 ROOM</td>\n",
       "      <td>68.0</td>\n",
       "      <td>1980</td>\n",
       "      <td>3</td>\n",
       "      <td>NaN</td>\n",
       "      <td>315000.0</td>\n",
       "      <td>06 TO 10</td>\n",
       "      <td>ANG MO KIO AVE 4</td>\n",
       "      <td>ANG MO KIO</td>\n",
       "      <td>100002</td>\n",
       "      <td>2012</td>\n",
       "    </tr>\n",
       "    <tr>\n",
       "      <td>3</td>\n",
       "      <td>474</td>\n",
       "      <td>New Generation</td>\n",
       "      <td>3 ROOM</td>\n",
       "      <td>67.0</td>\n",
       "      <td>1984</td>\n",
       "      <td>3</td>\n",
       "      <td>NaN</td>\n",
       "      <td>320000.0</td>\n",
       "      <td>01 TO 05</td>\n",
       "      <td>ANG MO KIO AVE 10</td>\n",
       "      <td>ANG MO KIO</td>\n",
       "      <td>100003</td>\n",
       "      <td>2012</td>\n",
       "    </tr>\n",
       "    <tr>\n",
       "      <td>4</td>\n",
       "      <td>604</td>\n",
       "      <td>New Generation</td>\n",
       "      <td>3 ROOM</td>\n",
       "      <td>67.0</td>\n",
       "      <td>1980</td>\n",
       "      <td>3</td>\n",
       "      <td>NaN</td>\n",
       "      <td>321000.0</td>\n",
       "      <td>06 TO 10</td>\n",
       "      <td>ANG MO KIO AVE 5</td>\n",
       "      <td>ANG MO KIO</td>\n",
       "      <td>100004</td>\n",
       "      <td>2012</td>\n",
       "    </tr>\n",
       "  </tbody>\n",
       "</table>\n",
       "</div>"
      ],
      "text/plain": [
       "  block      flat_model flat_type  floor_area_sqm  lease_commence_date  month  \\\n",
       "0   172        Improved    2 ROOM            45.0                 1986      3   \n",
       "1   510        Improved    2 ROOM            44.0                 1980      3   \n",
       "2   610  New Generation    3 ROOM            68.0                 1980      3   \n",
       "3   474  New Generation    3 ROOM            67.0                 1984      3   \n",
       "4   604  New Generation    3 ROOM            67.0                 1980      3   \n",
       "\n",
       "  remaining_lease  resale_price storey_range        street_name        town  \\\n",
       "0             NaN      250000.0     06 TO 10   ANG MO KIO AVE 4  ANG MO KIO   \n",
       "1             NaN      265000.0     01 TO 05   ANG MO KIO AVE 8  ANG MO KIO   \n",
       "2             NaN      315000.0     06 TO 10   ANG MO KIO AVE 4  ANG MO KIO   \n",
       "3             NaN      320000.0     01 TO 05  ANG MO KIO AVE 10  ANG MO KIO   \n",
       "4             NaN      321000.0     06 TO 10   ANG MO KIO AVE 5  ANG MO KIO   \n",
       "\n",
       "   uniqueID  year  \n",
       "0    100000  2012  \n",
       "1    100001  2012  \n",
       "2    100002  2012  \n",
       "3    100003  2012  \n",
       "4    100004  2012  "
      ]
     },
     "execution_count": 30,
     "metadata": {},
     "output_type": "execute_result"
    }
   ],
   "source": [
    "data1.head()"
   ]
  },
  {
   "cell_type": "code",
   "execution_count": 31,
   "metadata": {},
   "outputs": [],
   "source": [
    "data1['duration_of_stay'] = data1['year']-data1['lease_commence_date']"
   ]
  },
  {
   "cell_type": "code",
   "execution_count": 32,
   "metadata": {},
   "outputs": [
    {
     "data": {
      "text/html": [
       "<div>\n",
       "<style scoped>\n",
       "    .dataframe tbody tr th:only-of-type {\n",
       "        vertical-align: middle;\n",
       "    }\n",
       "\n",
       "    .dataframe tbody tr th {\n",
       "        vertical-align: top;\n",
       "    }\n",
       "\n",
       "    .dataframe thead th {\n",
       "        text-align: right;\n",
       "    }\n",
       "</style>\n",
       "<table border=\"1\" class=\"dataframe\">\n",
       "  <thead>\n",
       "    <tr style=\"text-align: right;\">\n",
       "      <th></th>\n",
       "      <th>block</th>\n",
       "      <th>flat_model</th>\n",
       "      <th>flat_type</th>\n",
       "      <th>floor_area_sqm</th>\n",
       "      <th>lease_commence_date</th>\n",
       "      <th>month</th>\n",
       "      <th>remaining_lease</th>\n",
       "      <th>resale_price</th>\n",
       "      <th>storey_range</th>\n",
       "      <th>street_name</th>\n",
       "      <th>town</th>\n",
       "      <th>uniqueID</th>\n",
       "      <th>year</th>\n",
       "      <th>duration_of_stay</th>\n",
       "    </tr>\n",
       "  </thead>\n",
       "  <tbody>\n",
       "    <tr>\n",
       "      <td>0</td>\n",
       "      <td>172</td>\n",
       "      <td>Improved</td>\n",
       "      <td>2 ROOM</td>\n",
       "      <td>45.0</td>\n",
       "      <td>1986</td>\n",
       "      <td>3</td>\n",
       "      <td>NaN</td>\n",
       "      <td>250000.0</td>\n",
       "      <td>06 TO 10</td>\n",
       "      <td>ANG MO KIO AVE 4</td>\n",
       "      <td>ANG MO KIO</td>\n",
       "      <td>100000</td>\n",
       "      <td>2012</td>\n",
       "      <td>26</td>\n",
       "    </tr>\n",
       "    <tr>\n",
       "      <td>1</td>\n",
       "      <td>510</td>\n",
       "      <td>Improved</td>\n",
       "      <td>2 ROOM</td>\n",
       "      <td>44.0</td>\n",
       "      <td>1980</td>\n",
       "      <td>3</td>\n",
       "      <td>NaN</td>\n",
       "      <td>265000.0</td>\n",
       "      <td>01 TO 05</td>\n",
       "      <td>ANG MO KIO AVE 8</td>\n",
       "      <td>ANG MO KIO</td>\n",
       "      <td>100001</td>\n",
       "      <td>2012</td>\n",
       "      <td>32</td>\n",
       "    </tr>\n",
       "    <tr>\n",
       "      <td>2</td>\n",
       "      <td>610</td>\n",
       "      <td>New Generation</td>\n",
       "      <td>3 ROOM</td>\n",
       "      <td>68.0</td>\n",
       "      <td>1980</td>\n",
       "      <td>3</td>\n",
       "      <td>NaN</td>\n",
       "      <td>315000.0</td>\n",
       "      <td>06 TO 10</td>\n",
       "      <td>ANG MO KIO AVE 4</td>\n",
       "      <td>ANG MO KIO</td>\n",
       "      <td>100002</td>\n",
       "      <td>2012</td>\n",
       "      <td>32</td>\n",
       "    </tr>\n",
       "    <tr>\n",
       "      <td>3</td>\n",
       "      <td>474</td>\n",
       "      <td>New Generation</td>\n",
       "      <td>3 ROOM</td>\n",
       "      <td>67.0</td>\n",
       "      <td>1984</td>\n",
       "      <td>3</td>\n",
       "      <td>NaN</td>\n",
       "      <td>320000.0</td>\n",
       "      <td>01 TO 05</td>\n",
       "      <td>ANG MO KIO AVE 10</td>\n",
       "      <td>ANG MO KIO</td>\n",
       "      <td>100003</td>\n",
       "      <td>2012</td>\n",
       "      <td>28</td>\n",
       "    </tr>\n",
       "    <tr>\n",
       "      <td>4</td>\n",
       "      <td>604</td>\n",
       "      <td>New Generation</td>\n",
       "      <td>3 ROOM</td>\n",
       "      <td>67.0</td>\n",
       "      <td>1980</td>\n",
       "      <td>3</td>\n",
       "      <td>NaN</td>\n",
       "      <td>321000.0</td>\n",
       "      <td>06 TO 10</td>\n",
       "      <td>ANG MO KIO AVE 5</td>\n",
       "      <td>ANG MO KIO</td>\n",
       "      <td>100004</td>\n",
       "      <td>2012</td>\n",
       "      <td>32</td>\n",
       "    </tr>\n",
       "  </tbody>\n",
       "</table>\n",
       "</div>"
      ],
      "text/plain": [
       "  block      flat_model flat_type  floor_area_sqm  lease_commence_date  month  \\\n",
       "0   172        Improved    2 ROOM            45.0                 1986      3   \n",
       "1   510        Improved    2 ROOM            44.0                 1980      3   \n",
       "2   610  New Generation    3 ROOM            68.0                 1980      3   \n",
       "3   474  New Generation    3 ROOM            67.0                 1984      3   \n",
       "4   604  New Generation    3 ROOM            67.0                 1980      3   \n",
       "\n",
       "  remaining_lease  resale_price storey_range        street_name        town  \\\n",
       "0             NaN      250000.0     06 TO 10   ANG MO KIO AVE 4  ANG MO KIO   \n",
       "1             NaN      265000.0     01 TO 05   ANG MO KIO AVE 8  ANG MO KIO   \n",
       "2             NaN      315000.0     06 TO 10   ANG MO KIO AVE 4  ANG MO KIO   \n",
       "3             NaN      320000.0     01 TO 05  ANG MO KIO AVE 10  ANG MO KIO   \n",
       "4             NaN      321000.0     06 TO 10   ANG MO KIO AVE 5  ANG MO KIO   \n",
       "\n",
       "   uniqueID  year  duration_of_stay  \n",
       "0    100000  2012                26  \n",
       "1    100001  2012                32  \n",
       "2    100002  2012                32  \n",
       "3    100003  2012                28  \n",
       "4    100004  2012                32  "
      ]
     },
     "execution_count": 32,
     "metadata": {},
     "output_type": "execute_result"
    }
   ],
   "source": [
    "data1.head()"
   ]
  },
  {
   "cell_type": "code",
   "execution_count": 33,
   "metadata": {},
   "outputs": [
    {
     "data": {
      "text/plain": [
       "block                   object\n",
       "flat_model              object\n",
       "flat_type               object\n",
       "floor_area_sqm         float64\n",
       "lease_commence_date      int64\n",
       "month                    int64\n",
       "remaining_lease         object\n",
       "resale_price           float64\n",
       "storey_range            object\n",
       "street_name             object\n",
       "town                    object\n",
       "uniqueID                 int64\n",
       "year                     int64\n",
       "duration_of_stay         int64\n",
       "dtype: object"
      ]
     },
     "execution_count": 33,
     "metadata": {},
     "output_type": "execute_result"
    }
   ],
   "source": [
    "data1.dtypes"
   ]
  },
  {
   "cell_type": "code",
   "execution_count": 34,
   "metadata": {},
   "outputs": [],
   "source": [
    "test1['year'] = test1['month'].dt.year\n",
    "test1['month']=test1['month'].dt.month\n",
    "test1['duration_of_stay']=test1['year']-test1['lease_commence_date']"
   ]
  },
  {
   "cell_type": "code",
   "execution_count": 35,
   "metadata": {},
   "outputs": [
    {
     "data": {
      "text/html": [
       "<div>\n",
       "<style scoped>\n",
       "    .dataframe tbody tr th:only-of-type {\n",
       "        vertical-align: middle;\n",
       "    }\n",
       "\n",
       "    .dataframe tbody tr th {\n",
       "        vertical-align: top;\n",
       "    }\n",
       "\n",
       "    .dataframe thead th {\n",
       "        text-align: right;\n",
       "    }\n",
       "</style>\n",
       "<table border=\"1\" class=\"dataframe\">\n",
       "  <thead>\n",
       "    <tr style=\"text-align: right;\">\n",
       "      <th></th>\n",
       "      <th>month</th>\n",
       "      <th>town</th>\n",
       "      <th>flat_type</th>\n",
       "      <th>block</th>\n",
       "      <th>street_name</th>\n",
       "      <th>storey_range</th>\n",
       "      <th>floor_area_sqm</th>\n",
       "      <th>flat_model</th>\n",
       "      <th>lease_commence_date</th>\n",
       "      <th>remaining_lease</th>\n",
       "      <th>uniqueID</th>\n",
       "      <th>year</th>\n",
       "      <th>duration_of_stay</th>\n",
       "    </tr>\n",
       "  </thead>\n",
       "  <tbody>\n",
       "    <tr>\n",
       "      <td>0</td>\n",
       "      <td>8</td>\n",
       "      <td>ANG MO KIO</td>\n",
       "      <td>2 ROOM</td>\n",
       "      <td>323</td>\n",
       "      <td>ANG MO KIO AVE 3</td>\n",
       "      <td>01 TO 03</td>\n",
       "      <td>44.0</td>\n",
       "      <td>Improved</td>\n",
       "      <td>1977</td>\n",
       "      <td>57 years 10 months</td>\n",
       "      <td>221934</td>\n",
       "      <td>2018</td>\n",
       "      <td>41</td>\n",
       "    </tr>\n",
       "    <tr>\n",
       "      <td>1</td>\n",
       "      <td>8</td>\n",
       "      <td>ANG MO KIO</td>\n",
       "      <td>3 ROOM</td>\n",
       "      <td>220</td>\n",
       "      <td>ANG MO KIO AVE 1</td>\n",
       "      <td>07 TO 09</td>\n",
       "      <td>82.0</td>\n",
       "      <td>New Generation</td>\n",
       "      <td>1977</td>\n",
       "      <td>57 years 11 months</td>\n",
       "      <td>221935</td>\n",
       "      <td>2018</td>\n",
       "      <td>41</td>\n",
       "    </tr>\n",
       "    <tr>\n",
       "      <td>2</td>\n",
       "      <td>8</td>\n",
       "      <td>ANG MO KIO</td>\n",
       "      <td>3 ROOM</td>\n",
       "      <td>220</td>\n",
       "      <td>ANG MO KIO AVE 1</td>\n",
       "      <td>07 TO 09</td>\n",
       "      <td>67.0</td>\n",
       "      <td>New Generation</td>\n",
       "      <td>1977</td>\n",
       "      <td>57 years 11 months</td>\n",
       "      <td>221936</td>\n",
       "      <td>2018</td>\n",
       "      <td>41</td>\n",
       "    </tr>\n",
       "    <tr>\n",
       "      <td>3</td>\n",
       "      <td>8</td>\n",
       "      <td>ANG MO KIO</td>\n",
       "      <td>3 ROOM</td>\n",
       "      <td>445</td>\n",
       "      <td>ANG MO KIO AVE 10</td>\n",
       "      <td>01 TO 03</td>\n",
       "      <td>67.0</td>\n",
       "      <td>New Generation</td>\n",
       "      <td>1979</td>\n",
       "      <td>60 years 01 month</td>\n",
       "      <td>221937</td>\n",
       "      <td>2018</td>\n",
       "      <td>39</td>\n",
       "    </tr>\n",
       "    <tr>\n",
       "      <td>4</td>\n",
       "      <td>8</td>\n",
       "      <td>ANG MO KIO</td>\n",
       "      <td>3 ROOM</td>\n",
       "      <td>471</td>\n",
       "      <td>ANG MO KIO AVE 10</td>\n",
       "      <td>01 TO 03</td>\n",
       "      <td>67.0</td>\n",
       "      <td>New Generation</td>\n",
       "      <td>1979</td>\n",
       "      <td>59 years 11 months</td>\n",
       "      <td>221938</td>\n",
       "      <td>2018</td>\n",
       "      <td>39</td>\n",
       "    </tr>\n",
       "  </tbody>\n",
       "</table>\n",
       "</div>"
      ],
      "text/plain": [
       "   month        town flat_type block        street_name storey_range  \\\n",
       "0      8  ANG MO KIO    2 ROOM   323   ANG MO KIO AVE 3     01 TO 03   \n",
       "1      8  ANG MO KIO    3 ROOM   220   ANG MO KIO AVE 1     07 TO 09   \n",
       "2      8  ANG MO KIO    3 ROOM   220   ANG MO KIO AVE 1     07 TO 09   \n",
       "3      8  ANG MO KIO    3 ROOM   445  ANG MO KIO AVE 10     01 TO 03   \n",
       "4      8  ANG MO KIO    3 ROOM   471  ANG MO KIO AVE 10     01 TO 03   \n",
       "\n",
       "   floor_area_sqm      flat_model  lease_commence_date     remaining_lease  \\\n",
       "0            44.0        Improved                 1977  57 years 10 months   \n",
       "1            82.0  New Generation                 1977  57 years 11 months   \n",
       "2            67.0  New Generation                 1977  57 years 11 months   \n",
       "3            67.0  New Generation                 1979   60 years 01 month   \n",
       "4            67.0  New Generation                 1979  59 years 11 months   \n",
       "\n",
       "   uniqueID  year  duration_of_stay  \n",
       "0    221934  2018                41  \n",
       "1    221935  2018                41  \n",
       "2    221936  2018                41  \n",
       "3    221937  2018                39  \n",
       "4    221938  2018                39  "
      ]
     },
     "execution_count": 35,
     "metadata": {},
     "output_type": "execute_result"
    }
   ],
   "source": [
    "test1.head()"
   ]
  },
  {
   "cell_type": "code",
   "execution_count": 36,
   "metadata": {},
   "outputs": [
    {
     "data": {
      "text/plain": [
       "block                      0\n",
       "flat_model                 0\n",
       "flat_type                  0\n",
       "floor_area_sqm             0\n",
       "lease_commence_date        0\n",
       "month                      0\n",
       "remaining_lease        52193\n",
       "resale_price               0\n",
       "storey_range               0\n",
       "street_name                0\n",
       "town                       0\n",
       "uniqueID                   0\n",
       "year                       0\n",
       "duration_of_stay           0\n",
       "dtype: int64"
      ]
     },
     "execution_count": 36,
     "metadata": {},
     "output_type": "execute_result"
    }
   ],
   "source": [
    "data1.isnull().sum()"
   ]
  },
  {
   "cell_type": "code",
   "execution_count": 37,
   "metadata": {},
   "outputs": [
    {
     "data": {
      "text/plain": [
       "month                  0\n",
       "town                   0\n",
       "flat_type              0\n",
       "block                  0\n",
       "street_name            0\n",
       "storey_range           0\n",
       "floor_area_sqm         0\n",
       "flat_model             0\n",
       "lease_commence_date    0\n",
       "remaining_lease        0\n",
       "uniqueID               0\n",
       "year                   0\n",
       "duration_of_stay       0\n",
       "dtype: int64"
      ]
     },
     "execution_count": 37,
     "metadata": {},
     "output_type": "execute_result"
    }
   ],
   "source": [
    "test1.isnull().sum()"
   ]
  },
  {
   "cell_type": "code",
   "execution_count": 38,
   "metadata": {},
   "outputs": [
    {
     "data": {
      "text/plain": [
       "68                    2328\n",
       "67                    1857\n",
       "69                    1635\n",
       "71                    1547\n",
       "84                    1423\n",
       "                      ... \n",
       "96 years 07 months       2\n",
       "96 years 04 months       2\n",
       "47 years 04 months       1\n",
       "49 years 02 months       1\n",
       "48                       1\n",
       "Name: remaining_lease, Length: 642, dtype: int64"
      ]
     },
     "execution_count": 38,
     "metadata": {},
     "output_type": "execute_result"
    }
   ],
   "source": [
    "data1.remaining_lease.value_counts()"
   ]
  },
  {
   "cell_type": "code",
   "execution_count": 39,
   "metadata": {},
   "outputs": [
    {
     "data": {
      "text/plain": [
       "block                   object\n",
       "flat_model              object\n",
       "flat_type               object\n",
       "floor_area_sqm         float64\n",
       "lease_commence_date      int64\n",
       "month                    int64\n",
       "remaining_lease         object\n",
       "resale_price           float64\n",
       "storey_range            object\n",
       "street_name             object\n",
       "town                    object\n",
       "uniqueID                 int64\n",
       "year                     int64\n",
       "duration_of_stay         int64\n",
       "dtype: object"
      ]
     },
     "execution_count": 39,
     "metadata": {},
     "output_type": "execute_result"
    }
   ],
   "source": [
    "data1.dtypes"
   ]
  },
  {
   "cell_type": "code",
   "execution_count": 40,
   "metadata": {},
   "outputs": [],
   "source": [
    "data1['remaining_lease']= data1['remaining_lease'].astype('str')"
   ]
  },
  {
   "cell_type": "code",
   "execution_count": 41,
   "metadata": {},
   "outputs": [
    {
     "data": {
      "text/plain": [
       "array(['nan', '70', '65', '64', '63', '62', '69', '60', '61', '86', '77',\n",
       "       '80', '90', '87', '66', '58', '94', '71', '68', '84', '73', '79',\n",
       "       '76', '72', '82', '74', '67', '88', '81', '89', '53', '54', '55',\n",
       "       '57', '93', '83', '85', '92', '91', '59', '95', '52', '51', '56',\n",
       "       '75', '96', '78', '50', '97', '49', '48', '61 years 04 months',\n",
       "       '60 years 07 months', '62 years 05 months', '62 years 01 month',\n",
       "       '63 years', '61 years 06 months', '58 years 04 months',\n",
       "       '59 years 08 months', '59 years 06 months', '60 years',\n",
       "       '62 years 08 months', '61 years', '60 years 10 months',\n",
       "       '59 years 03 months', '61 years 05 months', '60 years 04 months',\n",
       "       '62 years', '60 years 03 months', '63 years 09 months',\n",
       "       '61 years 01 month', '61 years 10 months', '58 years 06 months',\n",
       "       '59 years 04 months', '62 years 11 months', '60 years 08 months',\n",
       "       '93 years 08 months', '93 years 07 months', '60 years 01 month',\n",
       "       '94 years 08 months', '78 years 04 months', '60 years 06 months',\n",
       "       '62 years 06 months', '58 years', '70 years 08 months',\n",
       "       '63 years 04 months', '63 years 06 months', '67 years 07 months',\n",
       "       '61 years 07 months', '68 years 02 months', '68 years 03 months',\n",
       "       '56 years', '67 years 09 months', '67 years 05 months',\n",
       "       '63 years 07 months', '66 years 03 months', '65 years 04 months',\n",
       "       '69 years 05 months', '59 years 11 months', '60 years 05 months',\n",
       "       '69 years 02 months', '69 years 03 months', '68 years 10 months',\n",
       "       '62 years 10 months', '64 years 04 months', '66 years 01 month',\n",
       "       '83 years', '83 years 01 month', '87 years 11 months',\n",
       "       '71 years 02 months', '92 years 04 months', '54 years 06 months',\n",
       "       '78 years 06 months', '82 years 11 months', '75 years 04 months',\n",
       "       '66 years 07 months', '66 years 06 months', '75 years 11 months',\n",
       "       '68 years 04 months', '55 years 09 months', '68 years 07 months',\n",
       "       '67 years 11 months', '68 years', '69 years 01 month',\n",
       "       '69 years 11 months', '74 years 06 months', '74 years 04 months',\n",
       "       '69 years 06 months', '72 years 03 months', '67 years 02 months',\n",
       "       '66 years 05 months', '69 years 04 months', '66 years 11 months',\n",
       "       '66 years 10 months', '80 years', '69 years 08 months',\n",
       "       '66 years 09 months', '67 years 10 months', '80 years 01 month',\n",
       "       '67 years 06 months', '86 years 08 months', '71 years 06 months',\n",
       "       '71 years 03 months', '67 years 04 months', '86 years 11 months',\n",
       "       '86 years 10 months', '79 years 05 months', '65 years 10 months',\n",
       "       '67 years 03 months', '79 years 11 months', '53 years 06 months',\n",
       "       '57 years 02 months', '52 years 01 month', '58 years 03 months',\n",
       "       '51 years 06 months', '58 years 08 months', '56 years 02 months',\n",
       "       '53 years 08 months', '64 years 08 months', '55 years 06 months',\n",
       "       '95 years 07 months', '55 years 01 month', '55 years',\n",
       "       '95 years 04 months', '52 years 06 months', '57 years 04 months',\n",
       "       '57 years', '82 years 06 months', '67 years 08 months', '79 years',\n",
       "       '95 years 08 months', '90 years 11 months', '87 years 10 months',\n",
       "       '82 years 08 months', '68 years 06 months', '81 years 02 months',\n",
       "       '56 years 05 months', '65 years 05 months', '70 years 09 months',\n",
       "       '71 years 01 month', '94 years 10 months', '80 years 03 months',\n",
       "       '83 years 11 months', '70 years 10 months', '81 years 01 month',\n",
       "       '70 years 06 months', '85 years', '81 years 05 months',\n",
       "       '80 years 07 months', '80 years 10 months', '83 years 10 months',\n",
       "       '86 years 09 months', '79 years 09 months', '84 years 10 months',\n",
       "       '80 years 11 months', '70 years 11 months', '84 years 04 months',\n",
       "       '83 years 09 months', '81 years 04 months', '79 years 07 months',\n",
       "       '81 years 03 months', '70 years 01 month', '70 years 05 months',\n",
       "       '70 years 07 months', '56 years 03 months', '64 years',\n",
       "       '68 years 09 months', '65 years 03 months', '59 years 01 month',\n",
       "       '61 years 02 months', '62 years 04 months', '93 years',\n",
       "       '71 years 08 months', '82 years 03 months', '71 years 04 months',\n",
       "       '75 years 05 months', '85 years 01 month', '81 years 09 months',\n",
       "       '72 years 08 months', '75 years 06 months', '78 years 03 months',\n",
       "       '82 years 01 month', '84 years 03 months', '77 years 05 months',\n",
       "       '77 years 07 months', '85 years 04 months', '79 years 04 months',\n",
       "       '78 years 09 months', '81 years 06 months', '78 years',\n",
       "       '63 years 08 months', '62 years 07 months', '65 years 09 months',\n",
       "       '60 years 02 months', '88 years 10 months', '53 years', '49 years',\n",
       "       '51 years', '50 years 05 months', '54 years 11 months',\n",
       "       '59 years 05 months', '82 years 04 months', '65 years 07 months',\n",
       "       '89 years', '72 years 05 months', '78 years 05 months',\n",
       "       '58 years 07 months', '80 years 05 months', '94 years 04 months',\n",
       "       '69 years', '65 years', '65 years 02 months', '71 years 07 months',\n",
       "       '75 years 03 months', '65 years 01 month', '79 years 10 months',\n",
       "       '73 years 04 months', '72 years 04 months', '74 years 08 months',\n",
       "       '74 years 09 months', '80 years 02 months', '81 years 10 months',\n",
       "       '86 years 05 months', '85 years 06 months', '79 years 01 month',\n",
       "       '80 years 06 months', '74 years 11 months', '68 years 08 months',\n",
       "       '68 years 05 months', '48 years 09 months', '63 years 05 months',\n",
       "       '65 years 06 months', '66 years 04 months', '67 years 01 month',\n",
       "       '95 years 09 months', '80 years 09 months', '82 years 02 months',\n",
       "       '61 years 09 months', '90 years 07 months', '57 years 09 months',\n",
       "       '54 years', '53 years 05 months', '71 years', '58 years 10 months',\n",
       "       '66 years 02 months', '64 years 03 months', '72 years 02 months',\n",
       "       '83 years 04 months', '78 years 07 months', '84 years 01 month',\n",
       "       '78 years 08 months', '72 years 10 months', '71 years 11 months',\n",
       "       '76 years', '78 years 02 months', '71 years 05 months',\n",
       "       '72 years 07 months', '83 years 03 months', '67 years',\n",
       "       '72 years 11 months', '90 years 08 months', '84 years 11 months',\n",
       "       '84 years 09 months', '82 years 07 months', '66 years 08 months',\n",
       "       '88 years 04 months', '92 years 03 months', '85 years 10 months',\n",
       "       '90 years 05 months', '90 years 06 months', '83 years 05 months',\n",
       "       '84 years 02 months', '82 years 09 months', '82 years 05 months',\n",
       "       '73 years', '84 years 06 months', '83 years 07 months',\n",
       "       '52 years 05 months', '56 years 08 months', '56 years 06 months',\n",
       "       '68 years 01 month', '64 years 10 months', '57 years 01 month',\n",
       "       '86 years 06 months', '88 years 07 months', '93 years 11 months',\n",
       "       '58 years 02 months', '78 years 10 months', '77 years 08 months',\n",
       "       '75 years 07 months', '77 years 09 months', '75 years 08 months',\n",
       "       '77 years 04 months', '85 years 07 months', '95 years',\n",
       "       '89 years 07 months', '91 years 02 months', '94 years 11 months',\n",
       "       '85 years 11 months', '94 years 06 months', '94 years 07 months',\n",
       "       '95 years 01 month', '95 years 02 months', '95 years 06 months',\n",
       "       '93 years 02 months', '86 years 03 months', '87 years',\n",
       "       '86 years 04 months', '85 years 03 months', '86 years 02 months',\n",
       "       '85 years 09 months', '52 years', '49 years 01 month',\n",
       "       '57 years 06 months', '56 years 04 months', '95 years 03 months',\n",
       "       '88 years 11 months', '59 years', '85 years 08 months',\n",
       "       '92 years 07 months', '83 years 06 months', '83 years 02 months',\n",
       "       '81 years 11 months', '84 years', '94 years 02 months',\n",
       "       '94 years 01 month', '85 years 05 months', '85 years 02 months',\n",
       "       '83 years 08 months', '95 years 10 months', '93 years 10 months',\n",
       "       '81 years', '95 years 05 months', '88 years 01 month',\n",
       "       '94 years 09 months', '92 years 02 months', '90 years 04 months',\n",
       "       '91 years 11 months', '91 years 07 months', '84 years 08 months',\n",
       "       '84 years 05 months', '71 years 10 months', '74 years 10 months',\n",
       "       '69 years 09 months', '79 years 02 months', '64 years 09 months',\n",
       "       '79 years 03 months', '79 years 06 months', '79 years 08 months',\n",
       "       '90 years', '69 years 10 months', '77 years 10 months',\n",
       "       '49 years 05 months', '52 years 07 months', '54 years 07 months',\n",
       "       '88 years', '91 years 03 months', '59 years 10 months',\n",
       "       '62 years 09 months', '78 years 01 month', '71 years 09 months',\n",
       "       '81 years 08 months', '78 years 11 months', '74 years 05 months',\n",
       "       '66 years', '70 years', '70 years 02 months', '77 years 02 months',\n",
       "       '70 years 03 months', '69 years 07 months', '63 years 02 months',\n",
       "       '59 years 02 months', '61 years 11 months', '61 years 03 months',\n",
       "       '60 years 11 months', '75 years 02 months', '76 years 10 months',\n",
       "       '57 years 11 months', '54 years 05 months', '62 years 03 months',\n",
       "       '59 years 07 months', '62 years 02 months', '64 years 05 months',\n",
       "       '63 years 03 months', '82 years 10 months', '64 years 11 months',\n",
       "       '72 years', '74 years 03 months', '80 years 04 months',\n",
       "       '93 years 06 months', '68 years 11 months', '70 years 04 months',\n",
       "       '86 years 07 months', '57 years 03 months', '49 years 04 months',\n",
       "       '51 years 05 months', '52 years 11 months', '55 years 05 months',\n",
       "       '56 years 11 months', '87 years 08 months', '61 years 08 months',\n",
       "       '76 years 11 months', '77 years 06 months', '84 years 07 months',\n",
       "       '87 years 01 month', '59 years 09 months', '92 years 11 months',\n",
       "       '77 years', '76 years 09 months', '88 years 05 months',\n",
       "       '50 years 11 months', '48 years 11 months', '58 years 05 months',\n",
       "       '57 years 05 months', '94 years 03 months', '74 years 07 months',\n",
       "       '64 years 07 months', '64 years 01 month', '80 years 08 months',\n",
       "       '57 years 08 months', '58 years 09 months', '53 years 11 months',\n",
       "       '55 years 11 months', '56 years 01 month', '88 years 08 months',\n",
       "       '88 years 06 months', '92 years', '58 years 11 months',\n",
       "       '76 years 02 months', '76 years 08 months', '75 years 09 months',\n",
       "       '77 years 01 month', '89 years 10 months', '94 years 05 months',\n",
       "       '92 years 05 months', '86 years 01 month', '92 years 06 months',\n",
       "       '92 years 01 month', '94 years', '91 years 04 months',\n",
       "       '89 years 06 months', '90 years 03 months', '91 years 06 months',\n",
       "       '86 years', '90 years 10 months', '77 years 11 months',\n",
       "       '50 years 04 months', '51 years 11 months', '58 years 01 month',\n",
       "       '76 years 04 months', '82 years', '81 years 07 months',\n",
       "       '65 years 11 months', '63 years 01 month', '63 years 10 months',\n",
       "       '93 years 05 months', '93 years 04 months', '57 years 10 months',\n",
       "       '55 years 10 months', '64 years 06 months', '87 years 09 months',\n",
       "       '64 years 02 months', '55 years 07 months', '55 years 08 months',\n",
       "       '74 years 01 month', '65 years 08 months', '75 years',\n",
       "       '51 years 04 months', '54 years 10 months', '55 years 04 months',\n",
       "       '51 years 10 months', '56 years 10 months', '90 years 09 months',\n",
       "       '87 years 07 months', '53 years 03 months', '92 years 10 months',\n",
       "       '77 years 03 months', '50 years 10 months', '48 years 10 months',\n",
       "       '52 years 10 months', '93 years 09 months', '87 years 03 months',\n",
       "       '63 years 11 months', '75 years 01 month', '72 years 01 month',\n",
       "       '56 years 07 months', '57 years 07 months', '53 years 10 months',\n",
       "       '72 years 09 months', '75 years 10 months', '88 years 02 months',\n",
       "       '52 years 03 months', '54 years 04 months', '76 years 01 month',\n",
       "       '72 years 06 months', '89 years 05 months', '52 years 04 months',\n",
       "       '91 years 09 months', '90 years 02 months', '91 years 05 months',\n",
       "       '50 years 03 months', '51 years 03 months', '49 years 03 months',\n",
       "       '91 years 01 month', '76 years 03 months', '60 years 09 months',\n",
       "       '74 years', '54 years 03 months', '52 years 09 months',\n",
       "       '55 years 03 months', '54 years 09 months', '87 years 06 months',\n",
       "       '92 years 09 months', '76 years 07 months', '88 years 09 months',\n",
       "       '50 years 02 months', '53 years 09 months', '52 years 02 months',\n",
       "       '50 years 09 months', '56 years 09 months', '76 years 06 months',\n",
       "       '89 years 08 months', '51 years 09 months', '89 years 03 months',\n",
       "       '91 years 08 months', '89 years 04 months', '90 years 01 month',\n",
       "       '51 years 02 months', '49 years 02 months', '74 years 02 months',\n",
       "       '93 years 03 months', '54 years 02 months', '73 years 11 months',\n",
       "       '51 years 08 months', '54 years 08 months', '87 years 05 months',\n",
       "       '92 years 08 months', '52 years 08 months', '48 years 08 months',\n",
       "       '50 years 08 months', '50 years 01 month', '73 years 02 months',\n",
       "       '55 years 02 months', '88 years 03 months', '89 years 02 months',\n",
       "       '91 years 10 months', '53 years 02 months', '51 years 01 month',\n",
       "       '54 years 01 month', '73 years 10 months', '50 years 07 months',\n",
       "       '53 years 01 month', '87 years 04 months', '48 years 07 months',\n",
       "       '51 years 07 months', '96 years 08 months', '89 years 01 month',\n",
       "       '91 years', '76 years 05 months', '53 years 07 months', '50 years',\n",
       "       '93 years 01 month', '48 years 06 months', '50 years 06 months',\n",
       "       '73 years 01 month', '89 years 11 months', '96 years 07 months',\n",
       "       '73 years 09 months', '73 years 08 months', '87 years 02 months',\n",
       "       '49 years 10 months', '48 years 05 months', '96 years 06 months',\n",
       "       '89 years 09 months', '49 years 11 months', '73 years 07 months',\n",
       "       '48 years 04 months', '49 years 09 months', '53 years 04 months',\n",
       "       '96 years 05 months', '73 years 06 months', '48 years 03 months',\n",
       "       '49 years 08 months', '48 years', '96 years 04 months',\n",
       "       '49 years 07 months', '48 years 02 months', '96 years 03 months',\n",
       "       '73 years 05 months', '48 years 01 month', '49 years 06 months',\n",
       "       '96 years 02 months', '47 years 09 months', '96 years 01 month',\n",
       "       '47 years 11 months', '96 years', '95 years 11 months',\n",
       "       '47 years 10 months', '73 years 03 months', '47 years 08 months',\n",
       "       '47 years 04 months', '47 years 07 months', '47 years 06 months'],\n",
       "      dtype=object)"
      ]
     },
     "execution_count": 41,
     "metadata": {},
     "output_type": "execute_result"
    }
   ],
   "source": [
    "data1.remaining_lease.unique()"
   ]
  },
  {
   "cell_type": "code",
   "execution_count": 42,
   "metadata": {},
   "outputs": [
    {
     "data": {
      "text/plain": [
       "array(['57 years 10 months', '57 years 11 months', '60 years 01 month',\n",
       "       '59 years 11 months', '60 years 06 months', '61 years 07 months',\n",
       "       '61 years 05 months', '60 years 05 months', '64 years 11 months',\n",
       "       '60 years', '59 years 05 months', '59 years 09 months',\n",
       "       '59 years 03 months', '59 years 02 months', '59 years 10 months',\n",
       "       '58 years 09 months', '65 years 05 months', '57 years 08 months',\n",
       "       '58 years 01 month', '59 years 01 month', '58 years 07 months',\n",
       "       '58 years 08 months', '66 years 05 months', '60 years 10 months',\n",
       "       '61 years', '61 years 03 months', '61 years 11 months',\n",
       "       '61 years 01 month', '61 years 02 months', '62 years 07 months',\n",
       "       '57 years', '58 years 05 months', '93 years 01 month',\n",
       "       '73 years 08 months', '61 years 06 months', '82 years 04 months',\n",
       "       '92 years', '83 years 05 months', '83 years 06 months',\n",
       "       '83 years 04 months', '91 years 11 months', '58 years',\n",
       "       '84 years 01 month', '76 years 10 months', '86 years 08 months',\n",
       "       '86 years 05 months', '82 years 03 months', '76 years 09 months',\n",
       "       '58 years 10 months', '58 years 11 months', '60 years 07 months',\n",
       "       '60 years 09 months', '59 years 06 months', '63 years 06 months',\n",
       "       '61 years 04 months', '63 years', '65 years 08 months',\n",
       "       '67 years 07 months', '62 years 09 months', '62 years 11 months',\n",
       "       '56 years 05 months', '54 years 06 months', '54 years 05 months',\n",
       "       '64 years 08 months', '63 years 03 months', '52 years 11 months',\n",
       "       '64 years 02 months', '65 years 11 months', '63 years 01 month',\n",
       "       '90 years 10 months', '60 years 08 months', '86 years 04 months',\n",
       "       '67 years 08 months', '67 years 09 months', '66 years',\n",
       "       '81 years 05 months', '81 years 04 months', '58 years 02 months',\n",
       "       '56 years 06 months', '65 years 07 months', '65 years 10 months',\n",
       "       '77 years 03 months', '73 years 09 months', '61 years 09 months',\n",
       "       '64 years 05 months', '66 years 06 months', '55 years 05 months',\n",
       "       '66 years 04 months', '64 years 06 months', '66 years 02 months',\n",
       "       '65 years', '76 years 05 months', '69 years 06 months',\n",
       "       '66 years 03 months', '67 years 05 months', '68 years 09 months',\n",
       "       '68 years 05 months', '68 years 06 months', '68 years 03 months',\n",
       "       '69 years', '67 years 06 months', '69 years 01 month',\n",
       "       '72 years 10 months', '72 years 11 months', '73 years',\n",
       "       '72 years 09 months', '72 years 08 months', '78 years 11 months',\n",
       "       '68 years 11 months', '68 years 02 months', '68 years 04 months',\n",
       "       '78 years 10 months', '66 years 10 months', '70 years 06 months',\n",
       "       '68 years', '68 years 08 months', '78 years 05 months',\n",
       "       '64 years 01 month', '64 years 03 months', '66 years 07 months',\n",
       "       '66 years 08 months', '67 years 10 months', '65 years 06 months',\n",
       "       '65 years 03 months', '65 years 09 months', '66 years 01 month',\n",
       "       '78 years 06 months', '78 years 04 months', '79 years',\n",
       "       '67 years 03 months', '85 years 02 months', '85 years 05 months',\n",
       "       '85 years 01 month', '85 years 06 months', '77 years 10 months',\n",
       "       '70 years', '84 years 03 months', '85 years 03 months',\n",
       "       '77 years 08 months', '78 years 03 months', '65 years 02 months',\n",
       "       '55 years 07 months', '51 years 11 months', '50 years 07 months',\n",
       "       '54 years', '53 years 11 months', '93 years 10 months',\n",
       "       '93 years 09 months', '64 years', '50 years 05 months',\n",
       "       '49 years 11 months', '89 years 05 months', '53 years 05 months',\n",
       "       '63 years 04 months', '63 years 09 months', '57 years 01 month',\n",
       "       '86 years 02 months', '96 years 05 months', '86 years 06 months',\n",
       "       '82 years 09 months', '66 years 11 months', '89 years 02 months',\n",
       "       '84 years', '89 years 04 months', '84 years 02 months',\n",
       "       '83 years 10 months', '93 years 06 months', '81 years 07 months',\n",
       "       '82 years 05 months', '55 years 09 months', '56 years 08 months',\n",
       "       '94 years', '58 years 03 months', '79 years 07 months',\n",
       "       '81 years 06 months', '87 years 05 months', '60 years 02 months',\n",
       "       '69 years 03 months', '68 years 07 months', '94 years 04 months',\n",
       "       '69 years 02 months', '79 years 09 months', '69 years 10 months',\n",
       "       '78 years 08 months', '79 years 02 months', '78 years 09 months',\n",
       "       '83 years 09 months', '69 years 04 months', '93 years 04 months',\n",
       "       '85 years 07 months', '70 years 01 month', '69 years 05 months',\n",
       "       '78 years', '79 years 04 months', '79 years 03 months',\n",
       "       '82 years 11 months', '83 years', '83 years 03 months',\n",
       "       '68 years 10 months', '80 years', '79 years 11 months',\n",
       "       '64 years 07 months', '57 years 07 months', '57 years 06 months',\n",
       "       '91 years 05 months', '92 years 01 month', '93 years 11 months',\n",
       "       '59 years 08 months', '62 years 02 months', '59 years 07 months',\n",
       "       '62 years 01 month', '70 years 02 months', '73 years 11 months',\n",
       "       '79 years 06 months', '70 years 11 months', '73 years 10 months',\n",
       "       '80 years 08 months', '79 years 10 months', '79 years 08 months',\n",
       "       '83 years 02 months', '80 years 05 months', '80 years 03 months',\n",
       "       '75 years 10 months', '83 years 07 months', '83 years 01 month',\n",
       "       '80 years 04 months', '69 years 09 months', '82 years 08 months',\n",
       "       '76 years 01 month', '75 years 06 months', '74 years',\n",
       "       '80 years 06 months', '83 years 08 months', '70 years 07 months',\n",
       "       '76 years', '75 years 08 months', '69 years 08 months',\n",
       "       '69 years 07 months', '94 years 01 month', '59 years',\n",
       "       '94 years 02 months', '87 years', '64 years 04 months',\n",
       "       '58 years 06 months', '59 years 04 months', '60 years 03 months',\n",
       "       '47 years 05 months', '49 years 05 months', '62 years',\n",
       "       '51 years 06 months', '51 years 05 months', '49 years 06 months',\n",
       "       '53 years 04 months', '57 years 09 months', '56 years 11 months',\n",
       "       '77 years 11 months', '87 years 04 months', '80 years 10 months',\n",
       "       '70 years 08 months', '66 years 09 months', '87 years 03 months',\n",
       "       '95 years 07 months', '64 years 09 months', '94 years 05 months',\n",
       "       '67 years', '95 years 06 months', '65 years 04 months',\n",
       "       '67 years 01 month', '70 years 05 months', '63 years 10 months',\n",
       "       '73 years 01 month', '73 years 02 months', '79 years 01 month',\n",
       "       '63 years 07 months', '70 years 04 months', '68 years 01 month',\n",
       "       '77 years 09 months', '77 years 07 months', '71 years 06 months',\n",
       "       '71 years 05 months', '67 years 11 months', '78 years 02 months',\n",
       "       '72 years', '77 years 06 months', '94 years 06 months',\n",
       "       '63 years 05 months', '63 years 02 months', '64 years 10 months',\n",
       "       '63 years 11 months', '80 years 09 months', '62 years 06 months',\n",
       "       '80 years 07 months', '79 years 05 months', '89 years',\n",
       "       '56 years 03 months', '56 years 02 months', '94 years 09 months',\n",
       "       '94 years 10 months', '57 years 04 months', '57 years 03 months',\n",
       "       '56 years 09 months', '52 years 06 months', '51 years 10 months',\n",
       "       '92 years 07 months', '54 years 11 months', '54 years 10 months',\n",
       "       '70 years 03 months', '71 years 04 months', '81 years 03 months',\n",
       "       '81 years 02 months', '82 years 01 month', '82 years',\n",
       "       '88 years 10 months', '81 years 01 month', '81 years 10 months',\n",
       "       '71 years 03 months', '70 years 09 months', '76 years 07 months',\n",
       "       '77 years', '77 years 02 months', '69 years 11 months',\n",
       "       '90 years 09 months', '81 years 09 months', '56 years 10 months',\n",
       "       '82 years 07 months', '78 years 07 months', '82 years 06 months',\n",
       "       '84 years 08 months', '81 years', '81 years 11 months',\n",
       "       '80 years 11 months', '76 years 11 months', '74 years 01 month',\n",
       "       '76 years 08 months', '89 years 01 month', '77 years 05 months',\n",
       "       '76 years 02 months', '92 years 09 months', '52 years 05 months',\n",
       "       '84 years 11 months', '84 years 10 months', '55 years',\n",
       "       '50 years 10 months', '92 years 10 months', '61 years 10 months',\n",
       "       '87 years 01 month', '87 years 02 months', '54 years 07 months',\n",
       "       '91 years 06 months', '74 years 05 months', '75 years 05 months',\n",
       "       '55 years 06 months', '55 years 08 months', '57 years 05 months',\n",
       "       '75 years 09 months', '76 years 03 months', '74 years 08 months',\n",
       "       '73 years 05 months', '74 years 04 months', '77 years 04 months',\n",
       "       '77 years 01 month', '75 years 07 months', '75 years 11 months',\n",
       "       '75 years 03 months', '94 years 08 months', '95 years 04 months',\n",
       "       '93 years 07 months', '92 years 11 months', '95 years 08 months',\n",
       "       '91 years 01 month', '93 years', '90 years 11 months',\n",
       "       '93 years 05 months', '89 years 07 months', '84 years 04 months',\n",
       "       '91 years 08 months', '91 years 07 months', '88 years 01 month',\n",
       "       '84 years 05 months', '83 years 11 months', '84 years 09 months',\n",
       "       '93 years 08 months', '50 years 11 months', '55 years 11 months',\n",
       "       '54 years 09 months', '50 years 06 months', '48 years 11 months',\n",
       "       '82 years 10 months', '91 years', '81 years 08 months', '85 years',\n",
       "       '87 years 11 months', '93 years 03 months', '94 years 03 months',\n",
       "       '94 years 11 months', '88 years', '95 years 09 months',\n",
       "       '88 years 09 months', '93 years 02 months', '92 years 03 months',\n",
       "       '89 years 11 months', '86 years 07 months', '89 years 10 months',\n",
       "       '90 years', '95 years 10 months', '90 years 08 months',\n",
       "       '92 years 06 months', '90 years 04 months', '95 years 03 months',\n",
       "       '95 years 02 months', '82 years 02 months', '84 years 07 months',\n",
       "       '85 years 04 months', '67 years 02 months', '78 years 01 month',\n",
       "       '73 years 03 months', '94 years 07 months', '65 years 01 month',\n",
       "       '76 years 04 months', '74 years 02 months', '76 years 06 months',\n",
       "       '47 years 11 months', '54 years 02 months', '53 years',\n",
       "       '48 years 10 months', '47 years 10 months', '51 years',\n",
       "       '49 years 10 months', '57 years 02 months', '92 years 08 months',\n",
       "       '89 years 09 months', '89 years 08 months', '63 years 08 months',\n",
       "       '61 years 08 months', '84 years 06 months', '67 years 04 months',\n",
       "       '70 years 10 months', '74 years 11 months', '74 years 10 months',\n",
       "       '56 years 07 months', '80 years 01 month', '73 years 06 months',\n",
       "       '75 years 02 months', '62 years 10 months', '60 years 04 months',\n",
       "       '60 years 11 months', '73 years 07 months', '58 years 04 months',\n",
       "       '62 years 08 months', '56 years 04 months', '86 years 03 months',\n",
       "       '72 years 07 months', '54 years 01 month', '52 years 01 month',\n",
       "       '53 years 10 months', '50 years 04 months', '86 years 01 month',\n",
       "       '96 years 04 months', '51 years 09 months', '54 years 04 months',\n",
       "       '91 years 04 months', '95 years 05 months', '74 years 07 months',\n",
       "       '80 years 02 months', '51 years 04 months', '47 years 04 months',\n",
       "       '49 years 04 months', '56 years', '47 years 02 months',\n",
       "       '56 years 01 month', '55 years 02 months', '51 years 08 months',\n",
       "       '71 years 02 months', '88 years 11 months', '90 years 07 months',\n",
       "       '74 years 03 months', '52 years 10 months', '52 years 04 months',\n",
       "       '86 years 11 months', '55 years 10 months', '55 years 04 months',\n",
       "       '89 years 06 months', '54 years 08 months', '86 years 10 months',\n",
       "       '85 years 09 months', '90 years 03 months', '95 years 01 month',\n",
       "       '47 years 09 months', '48 years 09 months', '62 years 05 months',\n",
       "       '74 years 09 months', '91 years 10 months', '54 years 03 months',\n",
       "       '52 years 09 months', '72 years 06 months', '49 years 09 months',\n",
       "       '53 years 09 months', '47 years 08 months', '89 years 03 months',\n",
       "       '53 years 03 months', '50 years 03 months', '86 years',\n",
       "       '91 years 03 months', '74 years 06 months', '75 years 04 months',\n",
       "       '47 years 03 months', '49 years 03 months', '51 years 03 months',\n",
       "       '92 years 02 months', '71 years 07 months', '62 years 04 months',\n",
       "       '71 years 01 month', '90 years 06 months', '50 years 09 months',\n",
       "       '52 years 03 months', '50 years 08 months', '55 years 03 months',\n",
       "       '92 years 05 months', '49 years 02 months', '95 years',\n",
       "       '88 years 07 months', '90 years 02 months', '49 years 08 months',\n",
       "       '73 years 04 months', '96 years 02 months', '96 years 01 month',\n",
       "       '62 years 03 months', '91 years 09 months', '52 years 08 months',\n",
       "       '72 years 05 months', '53 years 08 months', '91 years 02 months',\n",
       "       '71 years 08 months', '90 years 05 months', '86 years 09 months',\n",
       "       '87 years 09 months', '92 years 04 months', '50 years 02 months',\n",
       "       '87 years 08 months', '87 years 10 months', '88 years 06 months',\n",
       "       '90 years 01 month', '75 years 01 month', '48 years 07 months',\n",
       "       '52 years 02 months', '49 years 07 months', '51 years 02 months',\n",
       "       '96 years', '51 years 01 month', '53 years 07 months',\n",
       "       '55 years 01 month', '85 years 10 months', '85 years 11 months',\n",
       "       '49 years 01 month', '51 years 07 months', '71 years',\n",
       "       '88 years 08 months', '52 years 07 months', '47 years 01 month',\n",
       "       '75 years', '48 years 06 months', '50 years 01 month',\n",
       "       '53 years 02 months', '53 years 01 month', '95 years 11 months',\n",
       "       '72 years 04 months', '47 years 06 months', '50 years',\n",
       "       '53 years 06 months', '49 years', '47 years', '88 years 05 months',\n",
       "       '52 years', '87 years 07 months', '48 years 05 months',\n",
       "       '85 years 08 months', '88 years 04 months', '46 years 11 months',\n",
       "       '72 years 01 month', '46 years 10 months', '88 years 03 months',\n",
       "       '48 years 03 months', '72 years 03 months', '71 years 11 months',\n",
       "       '46 years 09 months', '72 years 02 months', '48 years 08 months',\n",
       "       '46 years 08 months', '66 years 0 months', '88 years 02 months',\n",
       "       '95 years 0 months', '48 years 01 month', '48 years 02 months',\n",
       "       '71 years 10 months', '46 years 07 months', '87 years 06 months',\n",
       "       '48 years', '46 years 06 months', '46 years 03 months',\n",
       "       '93 years 0 months'], dtype=object)"
      ]
     },
     "execution_count": 42,
     "metadata": {},
     "output_type": "execute_result"
    }
   ],
   "source": [
    "test1.remaining_lease.unique()"
   ]
  },
  {
   "cell_type": "code",
   "execution_count": 43,
   "metadata": {},
   "outputs": [
    {
     "data": {
      "text/plain": [
       "04 TO 06    5160\n",
       "07 TO 09    4638\n",
       "10 TO 12    4127\n",
       "01 TO 03    3950\n",
       "13 TO 15    1936\n",
       "16 TO 18     933\n",
       "19 TO 21     394\n",
       "22 TO 24     300\n",
       "25 TO 27     156\n",
       "28 TO 30     102\n",
       "34 TO 36      44\n",
       "31 TO 33      38\n",
       "37 TO 39      36\n",
       "40 TO 42      19\n",
       "46 TO 48       2\n",
       "43 TO 45       1\n",
       "49 TO 51       1\n",
       "Name: storey_range, dtype: int64"
      ]
     },
     "execution_count": 43,
     "metadata": {},
     "output_type": "execute_result"
    }
   ],
   "source": [
    "test1.storey_range.value_counts()"
   ]
  },
  {
   "cell_type": "code",
   "execution_count": 44,
   "metadata": {},
   "outputs": [
    {
     "data": {
      "text/plain": [
       "04 TO 06    27861\n",
       "07 TO 09    25056\n",
       "01 TO 03    22412\n",
       "10 TO 12    21732\n",
       "13 TO 15     9563\n",
       "16 TO 18     3925\n",
       "01 TO 05     2700\n",
       "06 TO 10     2474\n",
       "19 TO 21     1735\n",
       "11 TO 15     1259\n",
       "22 TO 24     1170\n",
       "25 TO 27      615\n",
       "28 TO 30      407\n",
       "16 TO 20      265\n",
       "34 TO 36      169\n",
       "37 TO 39      157\n",
       "31 TO 33      149\n",
       "21 TO 25       92\n",
       "40 TO 42       76\n",
       "26 TO 30       39\n",
       "46 TO 48       15\n",
       "43 TO 45       12\n",
       "36 TO 40        7\n",
       "49 TO 51        7\n",
       "31 TO 35        2\n",
       "Name: storey_range, dtype: int64"
      ]
     },
     "execution_count": 44,
     "metadata": {},
     "output_type": "execute_result"
    }
   ],
   "source": [
    "data1.storey_range.value_counts()"
   ]
  },
  {
   "cell_type": "code",
   "execution_count": 45,
   "metadata": {},
   "outputs": [],
   "source": [
    "data1 = data1.loc[(data1[\"storey_range\"]!=\"01 TO 05\")&(data1[\"storey_range\"]!=\"06 TO 10\")&(data1[\"storey_range\"]!=\"11 TO 15\")&(data1[\"storey_range\"]!=\"16 TO 20\")&\n",
    "                  (data1[\"storey_range\"]!=\"21 TO 25\")&(data1[\"storey_range\"]!=\"26 TO 30\")&(data1[\"storey_range\"]!=\"31 TO 35\")&(data1[\"storey_range\"]!=\"36 TO 40\"),:]"
   ]
  },
  {
   "cell_type": "code",
   "execution_count": 46,
   "metadata": {},
   "outputs": [
    {
     "data": {
      "text/html": [
       "<div>\n",
       "<style scoped>\n",
       "    .dataframe tbody tr th:only-of-type {\n",
       "        vertical-align: middle;\n",
       "    }\n",
       "\n",
       "    .dataframe tbody tr th {\n",
       "        vertical-align: top;\n",
       "    }\n",
       "\n",
       "    .dataframe thead th {\n",
       "        text-align: right;\n",
       "    }\n",
       "</style>\n",
       "<table border=\"1\" class=\"dataframe\">\n",
       "  <thead>\n",
       "    <tr style=\"text-align: right;\">\n",
       "      <th></th>\n",
       "      <th>block</th>\n",
       "      <th>flat_model</th>\n",
       "      <th>flat_type</th>\n",
       "      <th>floor_area_sqm</th>\n",
       "      <th>lease_commence_date</th>\n",
       "      <th>month</th>\n",
       "      <th>remaining_lease</th>\n",
       "      <th>resale_price</th>\n",
       "      <th>storey_range</th>\n",
       "      <th>street_name</th>\n",
       "      <th>town</th>\n",
       "      <th>uniqueID</th>\n",
       "      <th>year</th>\n",
       "      <th>duration_of_stay</th>\n",
       "      <th>storey_in_range</th>\n",
       "    </tr>\n",
       "  </thead>\n",
       "  <tbody>\n",
       "    <tr>\n",
       "      <td>6838</td>\n",
       "      <td>172</td>\n",
       "      <td>Improved</td>\n",
       "      <td>2 ROOM</td>\n",
       "      <td>45.0</td>\n",
       "      <td>1986</td>\n",
       "      <td>6</td>\n",
       "      <td>nan</td>\n",
       "      <td>259000.0</td>\n",
       "      <td>04 TO 06</td>\n",
       "      <td>ANG MO KIO AVE 4</td>\n",
       "      <td>ANG MO KIO</td>\n",
       "      <td>106838</td>\n",
       "      <td>2012</td>\n",
       "      <td>26</td>\n",
       "      <td>2</td>\n",
       "    </tr>\n",
       "    <tr>\n",
       "      <td>6839</td>\n",
       "      <td>406</td>\n",
       "      <td>Improved</td>\n",
       "      <td>2 ROOM</td>\n",
       "      <td>44.0</td>\n",
       "      <td>1979</td>\n",
       "      <td>6</td>\n",
       "      <td>nan</td>\n",
       "      <td>265000.0</td>\n",
       "      <td>01 TO 03</td>\n",
       "      <td>ANG MO KIO AVE 10</td>\n",
       "      <td>ANG MO KIO</td>\n",
       "      <td>106839</td>\n",
       "      <td>2012</td>\n",
       "      <td>33</td>\n",
       "      <td>1</td>\n",
       "    </tr>\n",
       "    <tr>\n",
       "      <td>6840</td>\n",
       "      <td>508</td>\n",
       "      <td>Improved</td>\n",
       "      <td>2 ROOM</td>\n",
       "      <td>44.0</td>\n",
       "      <td>1980</td>\n",
       "      <td>6</td>\n",
       "      <td>nan</td>\n",
       "      <td>266000.0</td>\n",
       "      <td>04 TO 06</td>\n",
       "      <td>ANG MO KIO AVE 8</td>\n",
       "      <td>ANG MO KIO</td>\n",
       "      <td>106840</td>\n",
       "      <td>2012</td>\n",
       "      <td>32</td>\n",
       "      <td>2</td>\n",
       "    </tr>\n",
       "    <tr>\n",
       "      <td>6841</td>\n",
       "      <td>323</td>\n",
       "      <td>Improved</td>\n",
       "      <td>2 ROOM</td>\n",
       "      <td>44.0</td>\n",
       "      <td>1977</td>\n",
       "      <td>6</td>\n",
       "      <td>nan</td>\n",
       "      <td>270000.0</td>\n",
       "      <td>07 TO 09</td>\n",
       "      <td>ANG MO KIO AVE 3</td>\n",
       "      <td>ANG MO KIO</td>\n",
       "      <td>106841</td>\n",
       "      <td>2012</td>\n",
       "      <td>35</td>\n",
       "      <td>3</td>\n",
       "    </tr>\n",
       "    <tr>\n",
       "      <td>6842</td>\n",
       "      <td>314</td>\n",
       "      <td>Improved</td>\n",
       "      <td>2 ROOM</td>\n",
       "      <td>44.0</td>\n",
       "      <td>1978</td>\n",
       "      <td>6</td>\n",
       "      <td>nan</td>\n",
       "      <td>272500.0</td>\n",
       "      <td>10 TO 12</td>\n",
       "      <td>ANG MO KIO AVE 3</td>\n",
       "      <td>ANG MO KIO</td>\n",
       "      <td>106842</td>\n",
       "      <td>2012</td>\n",
       "      <td>34</td>\n",
       "      <td>4</td>\n",
       "    </tr>\n",
       "    <tr>\n",
       "      <td>...</td>\n",
       "      <td>...</td>\n",
       "      <td>...</td>\n",
       "      <td>...</td>\n",
       "      <td>...</td>\n",
       "      <td>...</td>\n",
       "      <td>...</td>\n",
       "      <td>...</td>\n",
       "      <td>...</td>\n",
       "      <td>...</td>\n",
       "      <td>...</td>\n",
       "      <td>...</td>\n",
       "      <td>...</td>\n",
       "      <td>...</td>\n",
       "      <td>...</td>\n",
       "      <td>...</td>\n",
       "    </tr>\n",
       "    <tr>\n",
       "      <td>32573</td>\n",
       "      <td>325</td>\n",
       "      <td>Maisonette</td>\n",
       "      <td>EXECUTIVE</td>\n",
       "      <td>146.0</td>\n",
       "      <td>1988</td>\n",
       "      <td>7</td>\n",
       "      <td>69 years 05 months</td>\n",
       "      <td>538000.0</td>\n",
       "      <td>04 TO 06</td>\n",
       "      <td>YISHUN CTRL</td>\n",
       "      <td>YISHUN</td>\n",
       "      <td>221929</td>\n",
       "      <td>2018</td>\n",
       "      <td>30</td>\n",
       "      <td>2</td>\n",
       "    </tr>\n",
       "    <tr>\n",
       "      <td>32574</td>\n",
       "      <td>355</td>\n",
       "      <td>Maisonette</td>\n",
       "      <td>EXECUTIVE</td>\n",
       "      <td>146.0</td>\n",
       "      <td>1988</td>\n",
       "      <td>7</td>\n",
       "      <td>69 years 04 months</td>\n",
       "      <td>590000.0</td>\n",
       "      <td>01 TO 03</td>\n",
       "      <td>YISHUN RING RD</td>\n",
       "      <td>YISHUN</td>\n",
       "      <td>221930</td>\n",
       "      <td>2018</td>\n",
       "      <td>30</td>\n",
       "      <td>1</td>\n",
       "    </tr>\n",
       "    <tr>\n",
       "      <td>32575</td>\n",
       "      <td>614</td>\n",
       "      <td>Apartment</td>\n",
       "      <td>EXECUTIVE</td>\n",
       "      <td>142.0</td>\n",
       "      <td>1987</td>\n",
       "      <td>7</td>\n",
       "      <td>67 years 10 months</td>\n",
       "      <td>620888.0</td>\n",
       "      <td>04 TO 06</td>\n",
       "      <td>YISHUN ST 61</td>\n",
       "      <td>YISHUN</td>\n",
       "      <td>221931</td>\n",
       "      <td>2018</td>\n",
       "      <td>31</td>\n",
       "      <td>2</td>\n",
       "    </tr>\n",
       "    <tr>\n",
       "      <td>32576</td>\n",
       "      <td>834</td>\n",
       "      <td>Maisonette</td>\n",
       "      <td>EXECUTIVE</td>\n",
       "      <td>146.0</td>\n",
       "      <td>1988</td>\n",
       "      <td>7</td>\n",
       "      <td>68 years 06 months</td>\n",
       "      <td>650000.0</td>\n",
       "      <td>10 TO 12</td>\n",
       "      <td>YISHUN ST 81</td>\n",
       "      <td>YISHUN</td>\n",
       "      <td>221932</td>\n",
       "      <td>2018</td>\n",
       "      <td>30</td>\n",
       "      <td>4</td>\n",
       "    </tr>\n",
       "    <tr>\n",
       "      <td>32577</td>\n",
       "      <td>666</td>\n",
       "      <td>Multi Generation</td>\n",
       "      <td>MULTI-GENERATION</td>\n",
       "      <td>164.0</td>\n",
       "      <td>1987</td>\n",
       "      <td>7</td>\n",
       "      <td>68 years 06 months</td>\n",
       "      <td>770000.0</td>\n",
       "      <td>10 TO 12</td>\n",
       "      <td>YISHUN AVE 4</td>\n",
       "      <td>YISHUN</td>\n",
       "      <td>221933</td>\n",
       "      <td>2018</td>\n",
       "      <td>31</td>\n",
       "      <td>4</td>\n",
       "    </tr>\n",
       "  </tbody>\n",
       "</table>\n",
       "<p>115061 rows × 15 columns</p>\n",
       "</div>"
      ],
      "text/plain": [
       "      block        flat_model         flat_type  floor_area_sqm  \\\n",
       "6838    172          Improved            2 ROOM            45.0   \n",
       "6839    406          Improved            2 ROOM            44.0   \n",
       "6840    508          Improved            2 ROOM            44.0   \n",
       "6841    323          Improved            2 ROOM            44.0   \n",
       "6842    314          Improved            2 ROOM            44.0   \n",
       "...     ...               ...               ...             ...   \n",
       "32573   325        Maisonette         EXECUTIVE           146.0   \n",
       "32574   355        Maisonette         EXECUTIVE           146.0   \n",
       "32575   614         Apartment         EXECUTIVE           142.0   \n",
       "32576   834        Maisonette         EXECUTIVE           146.0   \n",
       "32577   666  Multi Generation  MULTI-GENERATION           164.0   \n",
       "\n",
       "       lease_commence_date  month     remaining_lease  resale_price  \\\n",
       "6838                  1986      6                 nan      259000.0   \n",
       "6839                  1979      6                 nan      265000.0   \n",
       "6840                  1980      6                 nan      266000.0   \n",
       "6841                  1977      6                 nan      270000.0   \n",
       "6842                  1978      6                 nan      272500.0   \n",
       "...                    ...    ...                 ...           ...   \n",
       "32573                 1988      7  69 years 05 months      538000.0   \n",
       "32574                 1988      7  69 years 04 months      590000.0   \n",
       "32575                 1987      7  67 years 10 months      620888.0   \n",
       "32576                 1988      7  68 years 06 months      650000.0   \n",
       "32577                 1987      7  68 years 06 months      770000.0   \n",
       "\n",
       "      storey_range        street_name        town  uniqueID  year  \\\n",
       "6838      04 TO 06   ANG MO KIO AVE 4  ANG MO KIO    106838  2012   \n",
       "6839      01 TO 03  ANG MO KIO AVE 10  ANG MO KIO    106839  2012   \n",
       "6840      04 TO 06   ANG MO KIO AVE 8  ANG MO KIO    106840  2012   \n",
       "6841      07 TO 09   ANG MO KIO AVE 3  ANG MO KIO    106841  2012   \n",
       "6842      10 TO 12   ANG MO KIO AVE 3  ANG MO KIO    106842  2012   \n",
       "...            ...                ...         ...       ...   ...   \n",
       "32573     04 TO 06        YISHUN CTRL      YISHUN    221929  2018   \n",
       "32574     01 TO 03     YISHUN RING RD      YISHUN    221930  2018   \n",
       "32575     04 TO 06       YISHUN ST 61      YISHUN    221931  2018   \n",
       "32576     10 TO 12       YISHUN ST 81      YISHUN    221932  2018   \n",
       "32577     10 TO 12       YISHUN AVE 4      YISHUN    221933  2018   \n",
       "\n",
       "       duration_of_stay storey_in_range  \n",
       "6838                 26               2  \n",
       "6839                 33               1  \n",
       "6840                 32               2  \n",
       "6841                 35               3  \n",
       "6842                 34               4  \n",
       "...                 ...             ...  \n",
       "32573                30               2  \n",
       "32574                30               1  \n",
       "32575                31               2  \n",
       "32576                30               4  \n",
       "32577                31               4  \n",
       "\n",
       "[115061 rows x 15 columns]"
      ]
     },
     "execution_count": 46,
     "metadata": {},
     "output_type": "execute_result"
    }
   ],
   "source": [
    "def f(x): \n",
    "    if(x == '01 TO 03'):\n",
    "        return \"1\"\n",
    "    if(x == '04 TO 06'):\n",
    "        return \"2\"\n",
    "    if(x == '07 TO 09' ):\n",
    "        return \"3\"\n",
    "    if(x == '10 TO 12'):\n",
    "        return \"4\"\n",
    "    if(x == '13 TO 15'):\n",
    "        return \"5\"\n",
    "    if(x == '16 TO 18'):\n",
    "        return \"6\"\n",
    "    if(x == '19 TO 21'):\n",
    "        return \"7\"\n",
    "    if(x == '22 TO 24'):\n",
    "        return \"8\"\n",
    "    if(x == '25 TO 27'):\n",
    "        return \"9\"\n",
    "    if(x == '28 TO 30'):\n",
    "        return \"10\"\n",
    "    if(x == '34 TO 36'):\n",
    "        return \"11\"\n",
    "    if(x == '37 TO 39'):\n",
    "        return \"12\"\n",
    "    if(x == '31 TO 33'):\n",
    "        return \"13\"\n",
    "    if(x == '40 TO 42'):\n",
    "        return \"14\"\n",
    "    if(x == '46 TO 48'):\n",
    "        return \"15\"\n",
    "    if(x == '43 TO 45'):\n",
    "        return \"16\"\n",
    "    elif(x == '49 TO 51'):\n",
    "        return \"17\"\n",
    "\n",
    "    \n",
    "data1['storey_range'] = data1['storey_range'].astype(\"str\")  \n",
    "data1['storey_in_range'] = data1['storey_range'].apply(f)\n",
    "data1"
   ]
  },
  {
   "cell_type": "code",
   "execution_count": 47,
   "metadata": {},
   "outputs": [],
   "source": [
    "test1['storey_in_range']=test1['storey_range'].apply(f)"
   ]
  },
  {
   "cell_type": "code",
   "execution_count": 48,
   "metadata": {},
   "outputs": [
    {
     "data": {
      "text/plain": [
       "17"
      ]
     },
     "execution_count": 48,
     "metadata": {},
     "output_type": "execute_result"
    }
   ],
   "source": [
    "data1.storey_range.nunique()"
   ]
  },
  {
   "cell_type": "code",
   "execution_count": 49,
   "metadata": {},
   "outputs": [
    {
     "data": {
      "text/plain": [
       "17"
      ]
     },
     "execution_count": 49,
     "metadata": {},
     "output_type": "execute_result"
    }
   ],
   "source": [
    "test1.storey_range.nunique()"
   ]
  },
  {
   "cell_type": "code",
   "execution_count": 50,
   "metadata": {},
   "outputs": [
    {
     "data": {
      "text/html": [
       "<div>\n",
       "<style scoped>\n",
       "    .dataframe tbody tr th:only-of-type {\n",
       "        vertical-align: middle;\n",
       "    }\n",
       "\n",
       "    .dataframe tbody tr th {\n",
       "        vertical-align: top;\n",
       "    }\n",
       "\n",
       "    .dataframe thead th {\n",
       "        text-align: right;\n",
       "    }\n",
       "</style>\n",
       "<table border=\"1\" class=\"dataframe\">\n",
       "  <thead>\n",
       "    <tr style=\"text-align: right;\">\n",
       "      <th></th>\n",
       "      <th>block</th>\n",
       "      <th>flat_model</th>\n",
       "      <th>flat_type</th>\n",
       "      <th>floor_area_sqm</th>\n",
       "      <th>lease_commence_date</th>\n",
       "      <th>month</th>\n",
       "      <th>remaining_lease</th>\n",
       "      <th>resale_price</th>\n",
       "      <th>storey_range</th>\n",
       "      <th>street_name</th>\n",
       "      <th>town</th>\n",
       "      <th>uniqueID</th>\n",
       "      <th>year</th>\n",
       "      <th>duration_of_stay</th>\n",
       "      <th>storey_in_range</th>\n",
       "    </tr>\n",
       "  </thead>\n",
       "  <tbody>\n",
       "    <tr>\n",
       "      <td>6838</td>\n",
       "      <td>172</td>\n",
       "      <td>Improved</td>\n",
       "      <td>2 ROOM</td>\n",
       "      <td>45.0</td>\n",
       "      <td>1986</td>\n",
       "      <td>6</td>\n",
       "      <td>nan</td>\n",
       "      <td>259000.0</td>\n",
       "      <td>04 TO 06</td>\n",
       "      <td>ANG MO KIO AVE 4</td>\n",
       "      <td>ANG MO KIO</td>\n",
       "      <td>106838</td>\n",
       "      <td>2012</td>\n",
       "      <td>26</td>\n",
       "      <td>2</td>\n",
       "    </tr>\n",
       "    <tr>\n",
       "      <td>6839</td>\n",
       "      <td>406</td>\n",
       "      <td>Improved</td>\n",
       "      <td>2 ROOM</td>\n",
       "      <td>44.0</td>\n",
       "      <td>1979</td>\n",
       "      <td>6</td>\n",
       "      <td>nan</td>\n",
       "      <td>265000.0</td>\n",
       "      <td>01 TO 03</td>\n",
       "      <td>ANG MO KIO AVE 10</td>\n",
       "      <td>ANG MO KIO</td>\n",
       "      <td>106839</td>\n",
       "      <td>2012</td>\n",
       "      <td>33</td>\n",
       "      <td>1</td>\n",
       "    </tr>\n",
       "    <tr>\n",
       "      <td>6840</td>\n",
       "      <td>508</td>\n",
       "      <td>Improved</td>\n",
       "      <td>2 ROOM</td>\n",
       "      <td>44.0</td>\n",
       "      <td>1980</td>\n",
       "      <td>6</td>\n",
       "      <td>nan</td>\n",
       "      <td>266000.0</td>\n",
       "      <td>04 TO 06</td>\n",
       "      <td>ANG MO KIO AVE 8</td>\n",
       "      <td>ANG MO KIO</td>\n",
       "      <td>106840</td>\n",
       "      <td>2012</td>\n",
       "      <td>32</td>\n",
       "      <td>2</td>\n",
       "    </tr>\n",
       "    <tr>\n",
       "      <td>6841</td>\n",
       "      <td>323</td>\n",
       "      <td>Improved</td>\n",
       "      <td>2 ROOM</td>\n",
       "      <td>44.0</td>\n",
       "      <td>1977</td>\n",
       "      <td>6</td>\n",
       "      <td>nan</td>\n",
       "      <td>270000.0</td>\n",
       "      <td>07 TO 09</td>\n",
       "      <td>ANG MO KIO AVE 3</td>\n",
       "      <td>ANG MO KIO</td>\n",
       "      <td>106841</td>\n",
       "      <td>2012</td>\n",
       "      <td>35</td>\n",
       "      <td>3</td>\n",
       "    </tr>\n",
       "    <tr>\n",
       "      <td>6842</td>\n",
       "      <td>314</td>\n",
       "      <td>Improved</td>\n",
       "      <td>2 ROOM</td>\n",
       "      <td>44.0</td>\n",
       "      <td>1978</td>\n",
       "      <td>6</td>\n",
       "      <td>nan</td>\n",
       "      <td>272500.0</td>\n",
       "      <td>10 TO 12</td>\n",
       "      <td>ANG MO KIO AVE 3</td>\n",
       "      <td>ANG MO KIO</td>\n",
       "      <td>106842</td>\n",
       "      <td>2012</td>\n",
       "      <td>34</td>\n",
       "      <td>4</td>\n",
       "    </tr>\n",
       "    <tr>\n",
       "      <td>...</td>\n",
       "      <td>...</td>\n",
       "      <td>...</td>\n",
       "      <td>...</td>\n",
       "      <td>...</td>\n",
       "      <td>...</td>\n",
       "      <td>...</td>\n",
       "      <td>...</td>\n",
       "      <td>...</td>\n",
       "      <td>...</td>\n",
       "      <td>...</td>\n",
       "      <td>...</td>\n",
       "      <td>...</td>\n",
       "      <td>...</td>\n",
       "      <td>...</td>\n",
       "      <td>...</td>\n",
       "    </tr>\n",
       "    <tr>\n",
       "      <td>32573</td>\n",
       "      <td>325</td>\n",
       "      <td>Maisonette</td>\n",
       "      <td>EXECUTIVE</td>\n",
       "      <td>146.0</td>\n",
       "      <td>1988</td>\n",
       "      <td>7</td>\n",
       "      <td>69 years 05 months</td>\n",
       "      <td>538000.0</td>\n",
       "      <td>04 TO 06</td>\n",
       "      <td>YISHUN CTRL</td>\n",
       "      <td>YISHUN</td>\n",
       "      <td>221929</td>\n",
       "      <td>2018</td>\n",
       "      <td>30</td>\n",
       "      <td>2</td>\n",
       "    </tr>\n",
       "    <tr>\n",
       "      <td>32574</td>\n",
       "      <td>355</td>\n",
       "      <td>Maisonette</td>\n",
       "      <td>EXECUTIVE</td>\n",
       "      <td>146.0</td>\n",
       "      <td>1988</td>\n",
       "      <td>7</td>\n",
       "      <td>69 years 04 months</td>\n",
       "      <td>590000.0</td>\n",
       "      <td>01 TO 03</td>\n",
       "      <td>YISHUN RING RD</td>\n",
       "      <td>YISHUN</td>\n",
       "      <td>221930</td>\n",
       "      <td>2018</td>\n",
       "      <td>30</td>\n",
       "      <td>1</td>\n",
       "    </tr>\n",
       "    <tr>\n",
       "      <td>32575</td>\n",
       "      <td>614</td>\n",
       "      <td>Apartment</td>\n",
       "      <td>EXECUTIVE</td>\n",
       "      <td>142.0</td>\n",
       "      <td>1987</td>\n",
       "      <td>7</td>\n",
       "      <td>67 years 10 months</td>\n",
       "      <td>620888.0</td>\n",
       "      <td>04 TO 06</td>\n",
       "      <td>YISHUN ST 61</td>\n",
       "      <td>YISHUN</td>\n",
       "      <td>221931</td>\n",
       "      <td>2018</td>\n",
       "      <td>31</td>\n",
       "      <td>2</td>\n",
       "    </tr>\n",
       "    <tr>\n",
       "      <td>32576</td>\n",
       "      <td>834</td>\n",
       "      <td>Maisonette</td>\n",
       "      <td>EXECUTIVE</td>\n",
       "      <td>146.0</td>\n",
       "      <td>1988</td>\n",
       "      <td>7</td>\n",
       "      <td>68 years 06 months</td>\n",
       "      <td>650000.0</td>\n",
       "      <td>10 TO 12</td>\n",
       "      <td>YISHUN ST 81</td>\n",
       "      <td>YISHUN</td>\n",
       "      <td>221932</td>\n",
       "      <td>2018</td>\n",
       "      <td>30</td>\n",
       "      <td>4</td>\n",
       "    </tr>\n",
       "    <tr>\n",
       "      <td>32577</td>\n",
       "      <td>666</td>\n",
       "      <td>Multi Generation</td>\n",
       "      <td>MULTI-GENERATION</td>\n",
       "      <td>164.0</td>\n",
       "      <td>1987</td>\n",
       "      <td>7</td>\n",
       "      <td>68 years 06 months</td>\n",
       "      <td>770000.0</td>\n",
       "      <td>10 TO 12</td>\n",
       "      <td>YISHUN AVE 4</td>\n",
       "      <td>YISHUN</td>\n",
       "      <td>221933</td>\n",
       "      <td>2018</td>\n",
       "      <td>31</td>\n",
       "      <td>4</td>\n",
       "    </tr>\n",
       "  </tbody>\n",
       "</table>\n",
       "<p>115061 rows × 15 columns</p>\n",
       "</div>"
      ],
      "text/plain": [
       "      block        flat_model         flat_type  floor_area_sqm  \\\n",
       "6838    172          Improved            2 ROOM            45.0   \n",
       "6839    406          Improved            2 ROOM            44.0   \n",
       "6840    508          Improved            2 ROOM            44.0   \n",
       "6841    323          Improved            2 ROOM            44.0   \n",
       "6842    314          Improved            2 ROOM            44.0   \n",
       "...     ...               ...               ...             ...   \n",
       "32573   325        Maisonette         EXECUTIVE           146.0   \n",
       "32574   355        Maisonette         EXECUTIVE           146.0   \n",
       "32575   614         Apartment         EXECUTIVE           142.0   \n",
       "32576   834        Maisonette         EXECUTIVE           146.0   \n",
       "32577   666  Multi Generation  MULTI-GENERATION           164.0   \n",
       "\n",
       "       lease_commence_date  month     remaining_lease  resale_price  \\\n",
       "6838                  1986      6                 nan      259000.0   \n",
       "6839                  1979      6                 nan      265000.0   \n",
       "6840                  1980      6                 nan      266000.0   \n",
       "6841                  1977      6                 nan      270000.0   \n",
       "6842                  1978      6                 nan      272500.0   \n",
       "...                    ...    ...                 ...           ...   \n",
       "32573                 1988      7  69 years 05 months      538000.0   \n",
       "32574                 1988      7  69 years 04 months      590000.0   \n",
       "32575                 1987      7  67 years 10 months      620888.0   \n",
       "32576                 1988      7  68 years 06 months      650000.0   \n",
       "32577                 1987      7  68 years 06 months      770000.0   \n",
       "\n",
       "      storey_range        street_name        town  uniqueID  year  \\\n",
       "6838      04 TO 06   ANG MO KIO AVE 4  ANG MO KIO    106838  2012   \n",
       "6839      01 TO 03  ANG MO KIO AVE 10  ANG MO KIO    106839  2012   \n",
       "6840      04 TO 06   ANG MO KIO AVE 8  ANG MO KIO    106840  2012   \n",
       "6841      07 TO 09   ANG MO KIO AVE 3  ANG MO KIO    106841  2012   \n",
       "6842      10 TO 12   ANG MO KIO AVE 3  ANG MO KIO    106842  2012   \n",
       "...            ...                ...         ...       ...   ...   \n",
       "32573     04 TO 06        YISHUN CTRL      YISHUN    221929  2018   \n",
       "32574     01 TO 03     YISHUN RING RD      YISHUN    221930  2018   \n",
       "32575     04 TO 06       YISHUN ST 61      YISHUN    221931  2018   \n",
       "32576     10 TO 12       YISHUN ST 81      YISHUN    221932  2018   \n",
       "32577     10 TO 12       YISHUN AVE 4      YISHUN    221933  2018   \n",
       "\n",
       "       duration_of_stay storey_in_range  \n",
       "6838                 26               2  \n",
       "6839                 33               1  \n",
       "6840                 32               2  \n",
       "6841                 35               3  \n",
       "6842                 34               4  \n",
       "...                 ...             ...  \n",
       "32573                30               2  \n",
       "32574                30               1  \n",
       "32575                31               2  \n",
       "32576                30               4  \n",
       "32577                31               4  \n",
       "\n",
       "[115061 rows x 15 columns]"
      ]
     },
     "execution_count": 50,
     "metadata": {},
     "output_type": "execute_result"
    }
   ],
   "source": [
    "data1"
   ]
  },
  {
   "cell_type": "code",
   "execution_count": 51,
   "metadata": {},
   "outputs": [
    {
     "data": {
      "text/plain": [
       "26"
      ]
     },
     "execution_count": 51,
     "metadata": {},
     "output_type": "execute_result"
    }
   ],
   "source": [
    "data1.town.nunique()"
   ]
  },
  {
   "cell_type": "code",
   "execution_count": 52,
   "metadata": {},
   "outputs": [
    {
     "data": {
      "text/plain": [
       "26"
      ]
     },
     "execution_count": 52,
     "metadata": {},
     "output_type": "execute_result"
    }
   ],
   "source": [
    "test1.town.nunique()"
   ]
  },
  {
   "cell_type": "code",
   "execution_count": 53,
   "metadata": {},
   "outputs": [
    {
     "data": {
      "text/plain": [
       "12"
      ]
     },
     "execution_count": 53,
     "metadata": {},
     "output_type": "execute_result"
    }
   ],
   "source": [
    "data1.month.nunique()"
   ]
  },
  {
   "cell_type": "code",
   "execution_count": 54,
   "metadata": {},
   "outputs": [
    {
     "data": {
      "text/plain": [
       "12"
      ]
     },
     "execution_count": 54,
     "metadata": {},
     "output_type": "execute_result"
    }
   ],
   "source": [
    "test1.month.nunique()"
   ]
  },
  {
   "cell_type": "code",
   "execution_count": 55,
   "metadata": {},
   "outputs": [
    {
     "data": {
      "text/plain": [
       "(115061, 15)"
      ]
     },
     "execution_count": 55,
     "metadata": {},
     "output_type": "execute_result"
    }
   ],
   "source": [
    "data1.shape"
   ]
  },
  {
   "cell_type": "code",
   "execution_count": 56,
   "metadata": {},
   "outputs": [
    {
     "data": {
      "text/plain": [
       "(21837, 14)"
      ]
     },
     "execution_count": 56,
     "metadata": {},
     "output_type": "execute_result"
    }
   ],
   "source": [
    "test1.shape"
   ]
  },
  {
   "cell_type": "code",
   "execution_count": 57,
   "metadata": {},
   "outputs": [
    {
     "data": {
      "text/plain": [
       "Index(['block', 'flat_model', 'flat_type', 'floor_area_sqm',\n",
       "       'lease_commence_date', 'month', 'remaining_lease', 'resale_price',\n",
       "       'storey_range', 'street_name', 'town', 'uniqueID', 'year',\n",
       "       'duration_of_stay', 'storey_in_range'],\n",
       "      dtype='object')"
      ]
     },
     "execution_count": 57,
     "metadata": {},
     "output_type": "execute_result"
    }
   ],
   "source": [
    "data1.columns"
   ]
  },
  {
   "cell_type": "code",
   "execution_count": 58,
   "metadata": {},
   "outputs": [
    {
     "data": {
      "text/plain": [
       "Index(['month', 'town', 'flat_type', 'block', 'street_name', 'storey_range',\n",
       "       'floor_area_sqm', 'flat_model', 'lease_commence_date',\n",
       "       'remaining_lease', 'uniqueID', 'year', 'duration_of_stay',\n",
       "       'storey_in_range'],\n",
       "      dtype='object')"
      ]
     },
     "execution_count": 58,
     "metadata": {},
     "output_type": "execute_result"
    }
   ],
   "source": [
    "test1.columns"
   ]
  },
  {
   "cell_type": "code",
   "execution_count": 59,
   "metadata": {},
   "outputs": [
    {
     "data": {
      "text/plain": [
       "51"
      ]
     },
     "execution_count": 59,
     "metadata": {},
     "output_type": "execute_result"
    }
   ],
   "source": [
    "data1.lease_commence_date.nunique()"
   ]
  },
  {
   "cell_type": "code",
   "execution_count": 60,
   "metadata": {},
   "outputs": [
    {
     "data": {
      "text/plain": [
       "51"
      ]
     },
     "execution_count": 60,
     "metadata": {},
     "output_type": "execute_result"
    }
   ],
   "source": [
    "test1.lease_commence_date.nunique()"
   ]
  },
  {
   "cell_type": "code",
   "execution_count": 61,
   "metadata": {},
   "outputs": [],
   "source": [
    "data1.drop(['remaining_lease'],axis=1,inplace=True)"
   ]
  },
  {
   "cell_type": "code",
   "execution_count": 62,
   "metadata": {},
   "outputs": [],
   "source": [
    "test1.drop(['remaining_lease'],axis=1,inplace=True)"
   ]
  },
  {
   "cell_type": "code",
   "execution_count": 63,
   "metadata": {},
   "outputs": [
    {
     "data": {
      "text/plain": [
       "Index(['block', 'flat_model', 'flat_type', 'floor_area_sqm',\n",
       "       'lease_commence_date', 'month', 'resale_price', 'storey_range',\n",
       "       'street_name', 'town', 'uniqueID', 'year', 'duration_of_stay',\n",
       "       'storey_in_range'],\n",
       "      dtype='object')"
      ]
     },
     "execution_count": 63,
     "metadata": {},
     "output_type": "execute_result"
    }
   ],
   "source": [
    "data1.columns"
   ]
  },
  {
   "cell_type": "code",
   "execution_count": 64,
   "metadata": {},
   "outputs": [],
   "source": [
    "lease_left = 99-data1['duration_of_stay']\n",
    "\n",
    "data1['remaining_lease']=pd.DataFrame(lease_left)\n"
   ]
  },
  {
   "cell_type": "code",
   "execution_count": 65,
   "metadata": {},
   "outputs": [
    {
     "data": {
      "text/html": [
       "<div>\n",
       "<style scoped>\n",
       "    .dataframe tbody tr th:only-of-type {\n",
       "        vertical-align: middle;\n",
       "    }\n",
       "\n",
       "    .dataframe tbody tr th {\n",
       "        vertical-align: top;\n",
       "    }\n",
       "\n",
       "    .dataframe thead th {\n",
       "        text-align: right;\n",
       "    }\n",
       "</style>\n",
       "<table border=\"1\" class=\"dataframe\">\n",
       "  <thead>\n",
       "    <tr style=\"text-align: right;\">\n",
       "      <th></th>\n",
       "      <th>block</th>\n",
       "      <th>flat_model</th>\n",
       "      <th>flat_type</th>\n",
       "      <th>floor_area_sqm</th>\n",
       "      <th>lease_commence_date</th>\n",
       "      <th>month</th>\n",
       "      <th>resale_price</th>\n",
       "      <th>storey_range</th>\n",
       "      <th>street_name</th>\n",
       "      <th>town</th>\n",
       "      <th>uniqueID</th>\n",
       "      <th>year</th>\n",
       "      <th>duration_of_stay</th>\n",
       "      <th>storey_in_range</th>\n",
       "      <th>remaining_lease</th>\n",
       "    </tr>\n",
       "  </thead>\n",
       "  <tbody>\n",
       "    <tr>\n",
       "      <td>6838</td>\n",
       "      <td>172</td>\n",
       "      <td>Improved</td>\n",
       "      <td>2 ROOM</td>\n",
       "      <td>45.0</td>\n",
       "      <td>1986</td>\n",
       "      <td>6</td>\n",
       "      <td>259000.0</td>\n",
       "      <td>04 TO 06</td>\n",
       "      <td>ANG MO KIO AVE 4</td>\n",
       "      <td>ANG MO KIO</td>\n",
       "      <td>106838</td>\n",
       "      <td>2012</td>\n",
       "      <td>26</td>\n",
       "      <td>2</td>\n",
       "      <td>73</td>\n",
       "    </tr>\n",
       "    <tr>\n",
       "      <td>6839</td>\n",
       "      <td>406</td>\n",
       "      <td>Improved</td>\n",
       "      <td>2 ROOM</td>\n",
       "      <td>44.0</td>\n",
       "      <td>1979</td>\n",
       "      <td>6</td>\n",
       "      <td>265000.0</td>\n",
       "      <td>01 TO 03</td>\n",
       "      <td>ANG MO KIO AVE 10</td>\n",
       "      <td>ANG MO KIO</td>\n",
       "      <td>106839</td>\n",
       "      <td>2012</td>\n",
       "      <td>33</td>\n",
       "      <td>1</td>\n",
       "      <td>66</td>\n",
       "    </tr>\n",
       "    <tr>\n",
       "      <td>6840</td>\n",
       "      <td>508</td>\n",
       "      <td>Improved</td>\n",
       "      <td>2 ROOM</td>\n",
       "      <td>44.0</td>\n",
       "      <td>1980</td>\n",
       "      <td>6</td>\n",
       "      <td>266000.0</td>\n",
       "      <td>04 TO 06</td>\n",
       "      <td>ANG MO KIO AVE 8</td>\n",
       "      <td>ANG MO KIO</td>\n",
       "      <td>106840</td>\n",
       "      <td>2012</td>\n",
       "      <td>32</td>\n",
       "      <td>2</td>\n",
       "      <td>67</td>\n",
       "    </tr>\n",
       "    <tr>\n",
       "      <td>6841</td>\n",
       "      <td>323</td>\n",
       "      <td>Improved</td>\n",
       "      <td>2 ROOM</td>\n",
       "      <td>44.0</td>\n",
       "      <td>1977</td>\n",
       "      <td>6</td>\n",
       "      <td>270000.0</td>\n",
       "      <td>07 TO 09</td>\n",
       "      <td>ANG MO KIO AVE 3</td>\n",
       "      <td>ANG MO KIO</td>\n",
       "      <td>106841</td>\n",
       "      <td>2012</td>\n",
       "      <td>35</td>\n",
       "      <td>3</td>\n",
       "      <td>64</td>\n",
       "    </tr>\n",
       "    <tr>\n",
       "      <td>6842</td>\n",
       "      <td>314</td>\n",
       "      <td>Improved</td>\n",
       "      <td>2 ROOM</td>\n",
       "      <td>44.0</td>\n",
       "      <td>1978</td>\n",
       "      <td>6</td>\n",
       "      <td>272500.0</td>\n",
       "      <td>10 TO 12</td>\n",
       "      <td>ANG MO KIO AVE 3</td>\n",
       "      <td>ANG MO KIO</td>\n",
       "      <td>106842</td>\n",
       "      <td>2012</td>\n",
       "      <td>34</td>\n",
       "      <td>4</td>\n",
       "      <td>65</td>\n",
       "    </tr>\n",
       "    <tr>\n",
       "      <td>...</td>\n",
       "      <td>...</td>\n",
       "      <td>...</td>\n",
       "      <td>...</td>\n",
       "      <td>...</td>\n",
       "      <td>...</td>\n",
       "      <td>...</td>\n",
       "      <td>...</td>\n",
       "      <td>...</td>\n",
       "      <td>...</td>\n",
       "      <td>...</td>\n",
       "      <td>...</td>\n",
       "      <td>...</td>\n",
       "      <td>...</td>\n",
       "      <td>...</td>\n",
       "      <td>...</td>\n",
       "    </tr>\n",
       "    <tr>\n",
       "      <td>32573</td>\n",
       "      <td>325</td>\n",
       "      <td>Maisonette</td>\n",
       "      <td>EXECUTIVE</td>\n",
       "      <td>146.0</td>\n",
       "      <td>1988</td>\n",
       "      <td>7</td>\n",
       "      <td>538000.0</td>\n",
       "      <td>04 TO 06</td>\n",
       "      <td>YISHUN CTRL</td>\n",
       "      <td>YISHUN</td>\n",
       "      <td>221929</td>\n",
       "      <td>2018</td>\n",
       "      <td>30</td>\n",
       "      <td>2</td>\n",
       "      <td>69</td>\n",
       "    </tr>\n",
       "    <tr>\n",
       "      <td>32574</td>\n",
       "      <td>355</td>\n",
       "      <td>Maisonette</td>\n",
       "      <td>EXECUTIVE</td>\n",
       "      <td>146.0</td>\n",
       "      <td>1988</td>\n",
       "      <td>7</td>\n",
       "      <td>590000.0</td>\n",
       "      <td>01 TO 03</td>\n",
       "      <td>YISHUN RING RD</td>\n",
       "      <td>YISHUN</td>\n",
       "      <td>221930</td>\n",
       "      <td>2018</td>\n",
       "      <td>30</td>\n",
       "      <td>1</td>\n",
       "      <td>69</td>\n",
       "    </tr>\n",
       "    <tr>\n",
       "      <td>32575</td>\n",
       "      <td>614</td>\n",
       "      <td>Apartment</td>\n",
       "      <td>EXECUTIVE</td>\n",
       "      <td>142.0</td>\n",
       "      <td>1987</td>\n",
       "      <td>7</td>\n",
       "      <td>620888.0</td>\n",
       "      <td>04 TO 06</td>\n",
       "      <td>YISHUN ST 61</td>\n",
       "      <td>YISHUN</td>\n",
       "      <td>221931</td>\n",
       "      <td>2018</td>\n",
       "      <td>31</td>\n",
       "      <td>2</td>\n",
       "      <td>68</td>\n",
       "    </tr>\n",
       "    <tr>\n",
       "      <td>32576</td>\n",
       "      <td>834</td>\n",
       "      <td>Maisonette</td>\n",
       "      <td>EXECUTIVE</td>\n",
       "      <td>146.0</td>\n",
       "      <td>1988</td>\n",
       "      <td>7</td>\n",
       "      <td>650000.0</td>\n",
       "      <td>10 TO 12</td>\n",
       "      <td>YISHUN ST 81</td>\n",
       "      <td>YISHUN</td>\n",
       "      <td>221932</td>\n",
       "      <td>2018</td>\n",
       "      <td>30</td>\n",
       "      <td>4</td>\n",
       "      <td>69</td>\n",
       "    </tr>\n",
       "    <tr>\n",
       "      <td>32577</td>\n",
       "      <td>666</td>\n",
       "      <td>Multi Generation</td>\n",
       "      <td>MULTI-GENERATION</td>\n",
       "      <td>164.0</td>\n",
       "      <td>1987</td>\n",
       "      <td>7</td>\n",
       "      <td>770000.0</td>\n",
       "      <td>10 TO 12</td>\n",
       "      <td>YISHUN AVE 4</td>\n",
       "      <td>YISHUN</td>\n",
       "      <td>221933</td>\n",
       "      <td>2018</td>\n",
       "      <td>31</td>\n",
       "      <td>4</td>\n",
       "      <td>68</td>\n",
       "    </tr>\n",
       "  </tbody>\n",
       "</table>\n",
       "<p>115061 rows × 15 columns</p>\n",
       "</div>"
      ],
      "text/plain": [
       "      block        flat_model         flat_type  floor_area_sqm  \\\n",
       "6838    172          Improved            2 ROOM            45.0   \n",
       "6839    406          Improved            2 ROOM            44.0   \n",
       "6840    508          Improved            2 ROOM            44.0   \n",
       "6841    323          Improved            2 ROOM            44.0   \n",
       "6842    314          Improved            2 ROOM            44.0   \n",
       "...     ...               ...               ...             ...   \n",
       "32573   325        Maisonette         EXECUTIVE           146.0   \n",
       "32574   355        Maisonette         EXECUTIVE           146.0   \n",
       "32575   614         Apartment         EXECUTIVE           142.0   \n",
       "32576   834        Maisonette         EXECUTIVE           146.0   \n",
       "32577   666  Multi Generation  MULTI-GENERATION           164.0   \n",
       "\n",
       "       lease_commence_date  month  resale_price storey_range  \\\n",
       "6838                  1986      6      259000.0     04 TO 06   \n",
       "6839                  1979      6      265000.0     01 TO 03   \n",
       "6840                  1980      6      266000.0     04 TO 06   \n",
       "6841                  1977      6      270000.0     07 TO 09   \n",
       "6842                  1978      6      272500.0     10 TO 12   \n",
       "...                    ...    ...           ...          ...   \n",
       "32573                 1988      7      538000.0     04 TO 06   \n",
       "32574                 1988      7      590000.0     01 TO 03   \n",
       "32575                 1987      7      620888.0     04 TO 06   \n",
       "32576                 1988      7      650000.0     10 TO 12   \n",
       "32577                 1987      7      770000.0     10 TO 12   \n",
       "\n",
       "             street_name        town  uniqueID  year  duration_of_stay  \\\n",
       "6838    ANG MO KIO AVE 4  ANG MO KIO    106838  2012                26   \n",
       "6839   ANG MO KIO AVE 10  ANG MO KIO    106839  2012                33   \n",
       "6840    ANG MO KIO AVE 8  ANG MO KIO    106840  2012                32   \n",
       "6841    ANG MO KIO AVE 3  ANG MO KIO    106841  2012                35   \n",
       "6842    ANG MO KIO AVE 3  ANG MO KIO    106842  2012                34   \n",
       "...                  ...         ...       ...   ...               ...   \n",
       "32573        YISHUN CTRL      YISHUN    221929  2018                30   \n",
       "32574     YISHUN RING RD      YISHUN    221930  2018                30   \n",
       "32575       YISHUN ST 61      YISHUN    221931  2018                31   \n",
       "32576       YISHUN ST 81      YISHUN    221932  2018                30   \n",
       "32577       YISHUN AVE 4      YISHUN    221933  2018                31   \n",
       "\n",
       "      storey_in_range  remaining_lease  \n",
       "6838                2               73  \n",
       "6839                1               66  \n",
       "6840                2               67  \n",
       "6841                3               64  \n",
       "6842                4               65  \n",
       "...               ...              ...  \n",
       "32573               2               69  \n",
       "32574               1               69  \n",
       "32575               2               68  \n",
       "32576               4               69  \n",
       "32577               4               68  \n",
       "\n",
       "[115061 rows x 15 columns]"
      ]
     },
     "execution_count": 65,
     "metadata": {},
     "output_type": "execute_result"
    }
   ],
   "source": [
    "data1"
   ]
  },
  {
   "cell_type": "code",
   "execution_count": 66,
   "metadata": {},
   "outputs": [],
   "source": [
    "lease_left1 = 99 - test1['duration_of_stay']\n",
    "test1['remaining_lease']=pd.DataFrame(lease_left1)"
   ]
  },
  {
   "cell_type": "code",
   "execution_count": 67,
   "metadata": {},
   "outputs": [
    {
     "data": {
      "text/html": [
       "<div>\n",
       "<style scoped>\n",
       "    .dataframe tbody tr th:only-of-type {\n",
       "        vertical-align: middle;\n",
       "    }\n",
       "\n",
       "    .dataframe tbody tr th {\n",
       "        vertical-align: top;\n",
       "    }\n",
       "\n",
       "    .dataframe thead th {\n",
       "        text-align: right;\n",
       "    }\n",
       "</style>\n",
       "<table border=\"1\" class=\"dataframe\">\n",
       "  <thead>\n",
       "    <tr style=\"text-align: right;\">\n",
       "      <th></th>\n",
       "      <th>month</th>\n",
       "      <th>town</th>\n",
       "      <th>flat_type</th>\n",
       "      <th>block</th>\n",
       "      <th>street_name</th>\n",
       "      <th>storey_range</th>\n",
       "      <th>floor_area_sqm</th>\n",
       "      <th>flat_model</th>\n",
       "      <th>lease_commence_date</th>\n",
       "      <th>uniqueID</th>\n",
       "      <th>year</th>\n",
       "      <th>duration_of_stay</th>\n",
       "      <th>storey_in_range</th>\n",
       "      <th>remaining_lease</th>\n",
       "    </tr>\n",
       "  </thead>\n",
       "  <tbody>\n",
       "    <tr>\n",
       "      <td>0</td>\n",
       "      <td>8</td>\n",
       "      <td>ANG MO KIO</td>\n",
       "      <td>2 ROOM</td>\n",
       "      <td>323</td>\n",
       "      <td>ANG MO KIO AVE 3</td>\n",
       "      <td>01 TO 03</td>\n",
       "      <td>44.0</td>\n",
       "      <td>Improved</td>\n",
       "      <td>1977</td>\n",
       "      <td>221934</td>\n",
       "      <td>2018</td>\n",
       "      <td>41</td>\n",
       "      <td>1</td>\n",
       "      <td>58</td>\n",
       "    </tr>\n",
       "    <tr>\n",
       "      <td>1</td>\n",
       "      <td>8</td>\n",
       "      <td>ANG MO KIO</td>\n",
       "      <td>3 ROOM</td>\n",
       "      <td>220</td>\n",
       "      <td>ANG MO KIO AVE 1</td>\n",
       "      <td>07 TO 09</td>\n",
       "      <td>82.0</td>\n",
       "      <td>New Generation</td>\n",
       "      <td>1977</td>\n",
       "      <td>221935</td>\n",
       "      <td>2018</td>\n",
       "      <td>41</td>\n",
       "      <td>3</td>\n",
       "      <td>58</td>\n",
       "    </tr>\n",
       "    <tr>\n",
       "      <td>2</td>\n",
       "      <td>8</td>\n",
       "      <td>ANG MO KIO</td>\n",
       "      <td>3 ROOM</td>\n",
       "      <td>220</td>\n",
       "      <td>ANG MO KIO AVE 1</td>\n",
       "      <td>07 TO 09</td>\n",
       "      <td>67.0</td>\n",
       "      <td>New Generation</td>\n",
       "      <td>1977</td>\n",
       "      <td>221936</td>\n",
       "      <td>2018</td>\n",
       "      <td>41</td>\n",
       "      <td>3</td>\n",
       "      <td>58</td>\n",
       "    </tr>\n",
       "    <tr>\n",
       "      <td>3</td>\n",
       "      <td>8</td>\n",
       "      <td>ANG MO KIO</td>\n",
       "      <td>3 ROOM</td>\n",
       "      <td>445</td>\n",
       "      <td>ANG MO KIO AVE 10</td>\n",
       "      <td>01 TO 03</td>\n",
       "      <td>67.0</td>\n",
       "      <td>New Generation</td>\n",
       "      <td>1979</td>\n",
       "      <td>221937</td>\n",
       "      <td>2018</td>\n",
       "      <td>39</td>\n",
       "      <td>1</td>\n",
       "      <td>60</td>\n",
       "    </tr>\n",
       "    <tr>\n",
       "      <td>4</td>\n",
       "      <td>8</td>\n",
       "      <td>ANG MO KIO</td>\n",
       "      <td>3 ROOM</td>\n",
       "      <td>471</td>\n",
       "      <td>ANG MO KIO AVE 10</td>\n",
       "      <td>01 TO 03</td>\n",
       "      <td>67.0</td>\n",
       "      <td>New Generation</td>\n",
       "      <td>1979</td>\n",
       "      <td>221938</td>\n",
       "      <td>2018</td>\n",
       "      <td>39</td>\n",
       "      <td>1</td>\n",
       "      <td>60</td>\n",
       "    </tr>\n",
       "    <tr>\n",
       "      <td>...</td>\n",
       "      <td>...</td>\n",
       "      <td>...</td>\n",
       "      <td>...</td>\n",
       "      <td>...</td>\n",
       "      <td>...</td>\n",
       "      <td>...</td>\n",
       "      <td>...</td>\n",
       "      <td>...</td>\n",
       "      <td>...</td>\n",
       "      <td>...</td>\n",
       "      <td>...</td>\n",
       "      <td>...</td>\n",
       "      <td>...</td>\n",
       "      <td>...</td>\n",
       "    </tr>\n",
       "    <tr>\n",
       "      <td>21841</td>\n",
       "      <td>7</td>\n",
       "      <td>YISHUN</td>\n",
       "      <td>EXECUTIVE</td>\n",
       "      <td>723</td>\n",
       "      <td>YISHUN ST 71</td>\n",
       "      <td>04 TO 06</td>\n",
       "      <td>142.0</td>\n",
       "      <td>Apartment</td>\n",
       "      <td>1986</td>\n",
       "      <td>243775</td>\n",
       "      <td>2019</td>\n",
       "      <td>33</td>\n",
       "      <td>2</td>\n",
       "      <td>66</td>\n",
       "    </tr>\n",
       "    <tr>\n",
       "      <td>21842</td>\n",
       "      <td>7</td>\n",
       "      <td>YISHUN</td>\n",
       "      <td>EXECUTIVE</td>\n",
       "      <td>836</td>\n",
       "      <td>YISHUN ST 81</td>\n",
       "      <td>10 TO 12</td>\n",
       "      <td>146.0</td>\n",
       "      <td>Maisonette</td>\n",
       "      <td>1988</td>\n",
       "      <td>243776</td>\n",
       "      <td>2019</td>\n",
       "      <td>31</td>\n",
       "      <td>4</td>\n",
       "      <td>68</td>\n",
       "    </tr>\n",
       "    <tr>\n",
       "      <td>21843</td>\n",
       "      <td>7</td>\n",
       "      <td>YISHUN</td>\n",
       "      <td>EXECUTIVE</td>\n",
       "      <td>834</td>\n",
       "      <td>YISHUN ST 81</td>\n",
       "      <td>04 TO 06</td>\n",
       "      <td>142.0</td>\n",
       "      <td>Apartment</td>\n",
       "      <td>1988</td>\n",
       "      <td>243777</td>\n",
       "      <td>2019</td>\n",
       "      <td>31</td>\n",
       "      <td>2</td>\n",
       "      <td>68</td>\n",
       "    </tr>\n",
       "    <tr>\n",
       "      <td>21844</td>\n",
       "      <td>7</td>\n",
       "      <td>YISHUN</td>\n",
       "      <td>MULTI-GENERATION</td>\n",
       "      <td>666</td>\n",
       "      <td>YISHUN AVE 4</td>\n",
       "      <td>10 TO 12</td>\n",
       "      <td>164.0</td>\n",
       "      <td>Multi Generation</td>\n",
       "      <td>1987</td>\n",
       "      <td>243778</td>\n",
       "      <td>2019</td>\n",
       "      <td>32</td>\n",
       "      <td>4</td>\n",
       "      <td>67</td>\n",
       "    </tr>\n",
       "    <tr>\n",
       "      <td>21845</td>\n",
       "      <td>7</td>\n",
       "      <td>YISHUN</td>\n",
       "      <td>MULTI-GENERATION</td>\n",
       "      <td>633</td>\n",
       "      <td>YISHUN ST 61</td>\n",
       "      <td>04 TO 06</td>\n",
       "      <td>159.0</td>\n",
       "      <td>Multi Generation</td>\n",
       "      <td>1987</td>\n",
       "      <td>243779</td>\n",
       "      <td>2019</td>\n",
       "      <td>32</td>\n",
       "      <td>2</td>\n",
       "      <td>67</td>\n",
       "    </tr>\n",
       "  </tbody>\n",
       "</table>\n",
       "<p>21837 rows × 14 columns</p>\n",
       "</div>"
      ],
      "text/plain": [
       "       month        town         flat_type block        street_name  \\\n",
       "0          8  ANG MO KIO            2 ROOM   323   ANG MO KIO AVE 3   \n",
       "1          8  ANG MO KIO            3 ROOM   220   ANG MO KIO AVE 1   \n",
       "2          8  ANG MO KIO            3 ROOM   220   ANG MO KIO AVE 1   \n",
       "3          8  ANG MO KIO            3 ROOM   445  ANG MO KIO AVE 10   \n",
       "4          8  ANG MO KIO            3 ROOM   471  ANG MO KIO AVE 10   \n",
       "...      ...         ...               ...   ...                ...   \n",
       "21841      7      YISHUN         EXECUTIVE   723       YISHUN ST 71   \n",
       "21842      7      YISHUN         EXECUTIVE   836       YISHUN ST 81   \n",
       "21843      7      YISHUN         EXECUTIVE   834       YISHUN ST 81   \n",
       "21844      7      YISHUN  MULTI-GENERATION   666       YISHUN AVE 4   \n",
       "21845      7      YISHUN  MULTI-GENERATION   633       YISHUN ST 61   \n",
       "\n",
       "      storey_range  floor_area_sqm        flat_model  lease_commence_date  \\\n",
       "0         01 TO 03            44.0          Improved                 1977   \n",
       "1         07 TO 09            82.0    New Generation                 1977   \n",
       "2         07 TO 09            67.0    New Generation                 1977   \n",
       "3         01 TO 03            67.0    New Generation                 1979   \n",
       "4         01 TO 03            67.0    New Generation                 1979   \n",
       "...            ...             ...               ...                  ...   \n",
       "21841     04 TO 06           142.0         Apartment                 1986   \n",
       "21842     10 TO 12           146.0        Maisonette                 1988   \n",
       "21843     04 TO 06           142.0         Apartment                 1988   \n",
       "21844     10 TO 12           164.0  Multi Generation                 1987   \n",
       "21845     04 TO 06           159.0  Multi Generation                 1987   \n",
       "\n",
       "       uniqueID  year  duration_of_stay storey_in_range  remaining_lease  \n",
       "0        221934  2018                41               1               58  \n",
       "1        221935  2018                41               3               58  \n",
       "2        221936  2018                41               3               58  \n",
       "3        221937  2018                39               1               60  \n",
       "4        221938  2018                39               1               60  \n",
       "...         ...   ...               ...             ...              ...  \n",
       "21841    243775  2019                33               2               66  \n",
       "21842    243776  2019                31               4               68  \n",
       "21843    243777  2019                31               2               68  \n",
       "21844    243778  2019                32               4               67  \n",
       "21845    243779  2019                32               2               67  \n",
       "\n",
       "[21837 rows x 14 columns]"
      ]
     },
     "execution_count": 67,
     "metadata": {},
     "output_type": "execute_result"
    }
   ],
   "source": [
    "test1"
   ]
  },
  {
   "cell_type": "code",
   "execution_count": 68,
   "metadata": {},
   "outputs": [],
   "source": [
    "data1.drop([\"block\",\"street_name\",\"storey_range\"],axis=1,inplace=True)"
   ]
  },
  {
   "cell_type": "code",
   "execution_count": 69,
   "metadata": {},
   "outputs": [],
   "source": [
    "test1.drop([\"block\",\"street_name\",\"storey_range\"],axis=1,inplace=True)"
   ]
  },
  {
   "cell_type": "code",
   "execution_count": 70,
   "metadata": {},
   "outputs": [
    {
     "data": {
      "image/png": "[encoded data removed]",
      "text/plain": [
       "<Figure size 720x576 with 2 Axes>"
      ]
     },
     "metadata": {
      "needs_background": "light"
     },
     "output_type": "display_data"
    }
   ],
   "source": [
    "plt.figure(figsize=(10,8))\n",
    "sns.heatmap(data1.corr(),annot=True,linewidth=0.5)\n",
    "plt.show()"
   ]
  },
  {
   "cell_type": "code",
   "execution_count": 71,
   "metadata": {},
   "outputs": [
    {
     "data": {
      "image/png": "[encoded data removed]",
      "text/plain": [
       "<Figure size 720x576 with 1 Axes>"
      ]
     },
     "metadata": {
      "needs_background": "light"
     },
     "output_type": "display_data"
    }
   ],
   "source": [
    "plt.figure(figsize=(10,8))\n",
    "sns.distplot(data1['resale_price'])\n",
    "plt.xlabel(\"Resale Price\")\n",
    "plt.ylabel(\"Frequency\")\n",
    "plt.show()"
   ]
  },
  {
   "cell_type": "code",
   "execution_count": 72,
   "metadata": {},
   "outputs": [
    {
     "data": {
      "image/png": "[encoded data removed]",
      "text/plain": [
       "<Figure size 864x576 with 1 Axes>"
      ]
     },
     "metadata": {
      "needs_background": "light"
     },
     "output_type": "display_data"
    }
   ],
   "source": [
    "plt.figure(figsize=(12,8))\n",
    "plt.scatter(data1['remaining_lease'],data1['resale_price'])\n",
    "plt.xticks(label=\"No Of years of lease left\",rotation=45)\n",
    "plt.ylabel(\"Resale Prices of the houses\")\n",
    "plt.show()"
   ]
  },
  {
   "cell_type": "code",
   "execution_count": 75,
   "metadata": {},
   "outputs": [
    {
     "data": {
      "text/plain": [
       "'\"\"from matplotlib import rcParams\\nrcParams[\\'figure.figsize\\'] = 10,7\\nplt.bar(data1[\"storey_in_range\"],data1[\"resale_price\"])\\nplt.title(\"Plot of Storey Range vs Resale Price\")\\nplt.show()'"
      ]
     },
     "execution_count": 75,
     "metadata": {},
     "output_type": "execute_result"
    }
   ],
   "source": [
    "\"\"\"\"\"from matplotlib import rcParams\n",
    "rcParams['figure.figsize'] = 10,7\n",
    "plt.bar(data1[\"storey_in_range\"],data1[\"resale_price\"])\n",
    "plt.title(\"Plot of Storey Range vs Resale Price\")\n",
    "plt.show()\"\"\"\"\""
   ]
  },
  {
   "cell_type": "code",
   "execution_count": 76,
   "metadata": {},
   "outputs": [
    {
     "data": {
      "text/plain": [
       "Index(['flat_model', 'flat_type', 'floor_area_sqm', 'lease_commence_date',\n",
       "       'month', 'resale_price', 'town', 'uniqueID', 'year', 'duration_of_stay',\n",
       "       'storey_in_range', 'remaining_lease'],\n",
       "      dtype='object')"
      ]
     },
     "execution_count": 76,
     "metadata": {},
     "output_type": "execute_result"
    }
   ],
   "source": [
    "data1.columns"
   ]
  },
  {
   "cell_type": "code",
   "execution_count": 77,
   "metadata": {},
   "outputs": [
    {
     "data": {
      "text/plain": [
       "Index(['month', 'town', 'flat_type', 'floor_area_sqm', 'flat_model',\n",
       "       'lease_commence_date', 'uniqueID', 'year', 'duration_of_stay',\n",
       "       'storey_in_range', 'remaining_lease'],\n",
       "      dtype='object')"
      ]
     },
     "execution_count": 77,
     "metadata": {},
     "output_type": "execute_result"
    }
   ],
   "source": [
    "test1.columns"
   ]
  },
  {
   "cell_type": "code",
   "execution_count": 78,
   "metadata": {},
   "outputs": [
    {
     "data": {
      "text/plain": [
       "flat_model              object\n",
       "flat_type               object\n",
       "floor_area_sqm         float64\n",
       "lease_commence_date      int64\n",
       "month                    int64\n",
       "resale_price           float64\n",
       "town                    object\n",
       "uniqueID                 int64\n",
       "year                     int64\n",
       "duration_of_stay         int64\n",
       "storey_in_range         object\n",
       "remaining_lease          int64\n",
       "dtype: object"
      ]
     },
     "execution_count": 78,
     "metadata": {},
     "output_type": "execute_result"
    }
   ],
   "source": [
    "data1.dtypes"
   ]
  },
  {
   "cell_type": "code",
   "execution_count": 79,
   "metadata": {},
   "outputs": [
    {
     "data": {
      "text/plain": [
       "array([2012, 2013, 2014, 2015, 2016, 2017, 2018])"
      ]
     },
     "execution_count": 79,
     "metadata": {},
     "output_type": "execute_result"
    }
   ],
   "source": [
    "data1.year.unique()"
   ]
  },
  {
   "cell_type": "code",
   "execution_count": 80,
   "metadata": {},
   "outputs": [
    {
     "data": {
      "text/plain": [
       "array([2018, 2019])"
      ]
     },
     "execution_count": 80,
     "metadata": {},
     "output_type": "execute_result"
    }
   ],
   "source": [
    "test1.year.unique()"
   ]
  },
  {
   "cell_type": "code",
   "execution_count": 81,
   "metadata": {},
   "outputs": [
    {
     "data": {
      "text/plain": [
       "51"
      ]
     },
     "execution_count": 81,
     "metadata": {},
     "output_type": "execute_result"
    }
   ],
   "source": [
    "data1.lease_commence_date.nunique()"
   ]
  },
  {
   "cell_type": "code",
   "execution_count": 82,
   "metadata": {},
   "outputs": [
    {
     "data": {
      "text/plain": [
       "51"
      ]
     },
     "execution_count": 82,
     "metadata": {},
     "output_type": "execute_result"
    }
   ],
   "source": [
    "test1.lease_commence_date.nunique()"
   ]
  },
  {
   "cell_type": "code",
   "execution_count": 83,
   "metadata": {},
   "outputs": [],
   "source": [
    "data1.drop(['year'],axis=1,inplace=True)\n",
    "test1.drop(['year'],axis=1,inplace=True)"
   ]
  },
  {
   "cell_type": "code",
   "execution_count": 84,
   "metadata": {},
   "outputs": [],
   "source": [
    "combi = pd.concat([data1,test1],axis=0)"
   ]
  },
  {
   "cell_type": "code",
   "execution_count": 85,
   "metadata": {},
   "outputs": [
    {
     "data": {
      "text/plain": [
       "(136898, 11)"
      ]
     },
     "execution_count": 85,
     "metadata": {},
     "output_type": "execute_result"
    }
   ],
   "source": [
    "combi.shape"
   ]
  },
  {
   "cell_type": "code",
   "execution_count": 86,
   "metadata": {},
   "outputs": [],
   "source": [
    "for col in [\"flat_model\",\"flat_type\",\"storey_in_range\",\"town\",'month']:\n",
    "    combi[col]=combi[col].astype(\"category\")"
   ]
  },
  {
   "cell_type": "code",
   "execution_count": 87,
   "metadata": {},
   "outputs": [],
   "source": [
    "cat_col=[\"flat_model\",\"flat_type\",\"storey_in_range\",\"town\",'month']\n",
    "num_col=['floor_area_sqm', 'lease_commence_date','duration_of_stay','remaining_lease']"
   ]
  },
  {
   "cell_type": "code",
   "execution_count": 88,
   "metadata": {},
   "outputs": [],
   "source": [
    "train = combi.iloc[:115061,:]\n",
    "test = combi.iloc[115062:,:]"
   ]
  },
  {
   "cell_type": "code",
   "execution_count": 89,
   "metadata": {},
   "outputs": [],
   "source": [
    "X = train[['floor_area_sqm', 'lease_commence_date','duration_of_stay','remaining_lease',\n",
    "           \"flat_model\",\"flat_type\",\"storey_in_range\",\"town\",'month']]\n",
    "y = train[['resale_price']]"
   ]
  },
  {
   "cell_type": "code",
   "execution_count": 90,
   "metadata": {},
   "outputs": [
    {
     "data": {
      "text/plain": [
       "(115061, 9)"
      ]
     },
     "execution_count": 90,
     "metadata": {},
     "output_type": "execute_result"
    }
   ],
   "source": [
    "X.shape"
   ]
  },
  {
   "cell_type": "code",
   "execution_count": 91,
   "metadata": {},
   "outputs": [
    {
     "data": {
      "text/plain": [
       "(115061, 1)"
      ]
     },
     "execution_count": 91,
     "metadata": {},
     "output_type": "execute_result"
    }
   ],
   "source": [
    "y.shape"
   ]
  },
  {
   "cell_type": "code",
   "execution_count": 92,
   "metadata": {},
   "outputs": [],
   "source": [
    "from sklearn.model_selection import train_test_split\n",
    "X_train,X_test,y_train,y_test = train_test_split(X,y,test_size=0.2,random_state=123)"
   ]
  },
  {
   "cell_type": "code",
   "execution_count": 93,
   "metadata": {},
   "outputs": [
    {
     "data": {
      "text/plain": [
       "(92048, 9)"
      ]
     },
     "execution_count": 93,
     "metadata": {},
     "output_type": "execute_result"
    }
   ],
   "source": [
    "X_train.shape"
   ]
  },
  {
   "cell_type": "code",
   "execution_count": 94,
   "metadata": {},
   "outputs": [
    {
     "data": {
      "text/plain": [
       "(21837, 10)"
      ]
     },
     "execution_count": 94,
     "metadata": {},
     "output_type": "execute_result"
    }
   ],
   "source": [
    "test1.shape"
   ]
  },
  {
   "cell_type": "code",
   "execution_count": 95,
   "metadata": {},
   "outputs": [],
   "source": [
    "X_train = pd.get_dummies(columns=cat_col,data=X_train,drop_first=False)\n",
    "X_test = pd.get_dummies(columns=cat_col,data=X_test,drop_first=False)"
   ]
  },
  {
   "cell_type": "code",
   "execution_count": 96,
   "metadata": {},
   "outputs": [
    {
     "data": {
      "text/plain": [
       "(92048, 83)"
      ]
     },
     "execution_count": 96,
     "metadata": {},
     "output_type": "execute_result"
    }
   ],
   "source": [
    "X_train.shape"
   ]
  },
  {
   "cell_type": "code",
   "execution_count": 97,
   "metadata": {},
   "outputs": [],
   "source": [
    "train = pd.get_dummies(columns=cat_col,data=train,drop_first=False)\n",
    "test = pd.get_dummies(columns=cat_col,data=test,drop_first=False)"
   ]
  },
  {
   "cell_type": "code",
   "execution_count": 98,
   "metadata": {},
   "outputs": [
    {
     "data": {
      "text/plain": [
       "(115061, 85)"
      ]
     },
     "execution_count": 98,
     "metadata": {},
     "output_type": "execute_result"
    }
   ],
   "source": [
    "train.shape"
   ]
  },
  {
   "cell_type": "code",
   "execution_count": 99,
   "metadata": {},
   "outputs": [
    {
     "data": {
      "text/plain": [
       "(21836, 85)"
      ]
     },
     "execution_count": 99,
     "metadata": {},
     "output_type": "execute_result"
    }
   ],
   "source": [
    "test.shape"
   ]
  },
  {
   "cell_type": "code",
   "execution_count": 100,
   "metadata": {},
   "outputs": [
    {
     "data": {
      "text/plain": [
       "StandardScaler(copy=True, with_mean=True, with_std=True)"
      ]
     },
     "execution_count": 100,
     "metadata": {},
     "output_type": "execute_result"
    }
   ],
   "source": [
    "from sklearn.preprocessing import StandardScaler\n",
    "sc = StandardScaler()\n",
    "sc.fit(X_train[num_col])"
   ]
  },
  {
   "cell_type": "code",
   "execution_count": 101,
   "metadata": {},
   "outputs": [],
   "source": [
    "X_train[num_col]=sc.transform(X_train[num_col])\n",
    "X_test[num_col]=sc.transform(X_test[num_col])\n",
    "train[num_col]=sc.transform(train[num_col])\n",
    "test[num_col]=sc.transform(test[num_col])"
   ]
  },
  {
   "cell_type": "code",
   "execution_count": 102,
   "metadata": {},
   "outputs": [
    {
     "data": {
      "text/plain": [
       "LinearRegression(copy_X=True, fit_intercept=True, n_jobs=None, normalize=False)"
      ]
     },
     "execution_count": 102,
     "metadata": {},
     "output_type": "execute_result"
    }
   ],
   "source": [
    "from sklearn.linear_model import LinearRegression\n",
    "lr = LinearRegression()\n",
    "lr.fit(X_train,y_train)"
   ]
  },
  {
   "cell_type": "code",
   "execution_count": 103,
   "metadata": {},
   "outputs": [],
   "source": [
    "y_pred_train=lr.predict(X_train)\n",
    "valid_pred_test=lr.predict(X_test)"
   ]
  },
  {
   "cell_type": "code",
   "execution_count": 104,
   "metadata": {},
   "outputs": [
    {
     "name": "stdout",
     "output_type": "stream",
     "text": [
      "The mean absolute error on train dataset:39503.767917825484\n",
      "The mean squared error on train dataset:2676615641.8808384\n",
      "The root mean squared error on train dataset:51736.018805865206\n"
     ]
    }
   ],
   "source": [
    "from sklearn.metrics import mean_absolute_error,mean_squared_error\n",
    "print(\"The mean absolute error on train dataset:{}\".format(mean_absolute_error(y_true=y_train,y_pred=y_pred_train)))\n",
    "print(\"The mean squared error on train dataset:{}\".format(mean_squared_error(y_true=y_train,y_pred = y_pred_train)))\n",
    "print(\"The root mean squared error on train dataset:{}\".format(np.sqrt(mean_squared_error(y_true=y_train,y_pred=y_pred_train))))\n"
   ]
  },
  {
   "cell_type": "code",
   "execution_count": 105,
   "metadata": {},
   "outputs": [
    {
     "name": "stdout",
     "output_type": "stream",
     "text": [
      "The mean absolute error on test dataset:39675.187029939596\n",
      "The mean squared error  on test dataset:2708463507.0604315\n",
      "The root mean squared error on test dataset:52042.90064034125\n"
     ]
    }
   ],
   "source": [
    "print(\"The mean absolute error on test dataset:{}\".format(mean_absolute_error(y_true=y_test,y_pred=valid_pred_test)))\n",
    "print(\"The mean squared error  on test dataset:{}\".format(mean_squared_error(y_true=y_test,y_pred=valid_pred_test)))\n",
    "print(\"The root mean squared error on test dataset:{}\".format(np.sqrt(mean_squared_error(y_true=y_test,y_pred=valid_pred_test))))\n"
   ]
  },
  {
   "cell_type": "code",
   "execution_count": 106,
   "metadata": {},
   "outputs": [],
   "source": [
    "housing_values_test = pd.DataFrame()\n",
    "housing_values_test[['Actual_Values']]=housing_values_test.append(pd.DataFrame(y_test,columns=['resale_price']),ignore_index=True)\n",
    "housing_values_test[['Predicted_Values_LinearReg']]=pd.DataFrame(lr.predict(X_test))"
   ]
  },
  {
   "cell_type": "code",
   "execution_count": 107,
   "metadata": {},
   "outputs": [
    {
     "data": {
      "text/plain": [
       "Actual_Values                 0\n",
       "Predicted_Values_LinearReg    0\n",
       "dtype: int64"
      ]
     },
     "execution_count": 107,
     "metadata": {},
     "output_type": "execute_result"
    }
   ],
   "source": [
    "housing_values_test.isna().sum()"
   ]
  },
  {
   "cell_type": "code",
   "execution_count": 108,
   "metadata": {},
   "outputs": [
    {
     "data": {
      "text/plain": [
       "Lasso(alpha=0.1, copy_X=True, fit_intercept=True, max_iter=1000,\n",
       "      normalize=False, positive=False, precompute=False, random_state=None,\n",
       "      selection='cyclic', tol=0.0001, warm_start=False)"
      ]
     },
     "execution_count": 108,
     "metadata": {},
     "output_type": "execute_result"
    }
   ],
   "source": [
    "from sklearn.linear_model import Lasso\n",
    "ls_reg = Lasso(alpha=0.1)\n",
    "ls_reg.fit(X_train,y_train)"
   ]
  },
  {
   "cell_type": "code",
   "execution_count": 109,
   "metadata": {},
   "outputs": [],
   "source": [
    "ls_pred_train = ls_reg.predict(X_train)\n",
    "ls_pred_test = ls_reg.predict(X_test)"
   ]
  },
  {
   "cell_type": "code",
   "execution_count": 110,
   "metadata": {},
   "outputs": [
    {
     "name": "stdout",
     "output_type": "stream",
     "text": [
      "The mean absolute error on train dataset :39501.99915212881\n",
      "The mean squared error on train dataset:2674692836.2505426\n",
      "The root mean squared error on train dataset:51717.432614646896\n"
     ]
    }
   ],
   "source": [
    "print(\"The mean absolute error on train dataset :{}\".format(mean_absolute_error(y_true=y_train,y_pred=ls_pred_train)))\n",
    "print(\"The mean squared error on train dataset:{}\".format(mean_squared_error(y_true=y_train,y_pred=ls_pred_train)))\n",
    "print(\"The root mean squared error on train dataset:{}\".format(np.sqrt(mean_squared_error(y_true=y_train,y_pred=ls_pred_train))))\n"
   ]
  },
  {
   "cell_type": "code",
   "execution_count": 111,
   "metadata": {},
   "outputs": [
    {
     "name": "stdout",
     "output_type": "stream",
     "text": [
      "The mean absolute error on test dataset :39674.36675244784\n",
      "The mean squared error on test dataset:2705973263.6339693\n",
      "The root mean squared error on test dataset:52018.970228503844\n"
     ]
    }
   ],
   "source": [
    "print(\"The mean absolute error on test dataset :{}\".format(mean_absolute_error(y_true=y_test,y_pred=ls_pred_test)))\n",
    "print(\"The mean squared error on test dataset:{}\".format(mean_squared_error(y_true=y_test,y_pred=ls_pred_test)))\n",
    "print(\"The root mean squared error on test dataset:{}\".format(np.sqrt(mean_squared_error(y_true=y_test,y_pred=ls_pred_test))))\n"
   ]
  },
  {
   "cell_type": "code",
   "execution_count": 112,
   "metadata": {},
   "outputs": [
    {
     "data": {
      "text/plain": [
       "DecisionTreeRegressor(criterion='mse', max_depth=4, max_features=None,\n",
       "                      max_leaf_nodes=None, min_impurity_decrease=0.0,\n",
       "                      min_impurity_split=None, min_samples_leaf=1,\n",
       "                      min_samples_split=2, min_weight_fraction_leaf=0.0,\n",
       "                      presort=False, random_state=0, splitter='best')"
      ]
     },
     "execution_count": 112,
     "metadata": {},
     "output_type": "execute_result"
    }
   ],
   "source": [
    "from sklearn.tree import DecisionTreeRegressor\n",
    "dt_reg = DecisionTreeRegressor(max_depth=4,random_state=0)\n",
    "dt_reg.fit(X_train,y_train)"
   ]
  },
  {
   "cell_type": "code",
   "execution_count": 113,
   "metadata": {},
   "outputs": [],
   "source": [
    "dt_pred_train=dt_reg.predict(X_train)\n",
    "dt_pred_test=dt_reg.predict(X_test)"
   ]
  },
  {
   "cell_type": "code",
   "execution_count": 114,
   "metadata": {},
   "outputs": [
    {
     "name": "stdout",
     "output_type": "stream",
     "text": [
      "The mean absolute error on train dataset :63589.43054044887\n",
      "The mean squared error on train dataset:7576243598.1228895\n",
      "The root mean squared error on train dataset:87041.6199189956\n"
     ]
    }
   ],
   "source": [
    "print(\"The mean absolute error on train dataset :{}\".format(mean_absolute_error(y_true=y_train,y_pred=dt_pred_train)))\n",
    "print(\"The mean squared error on train dataset:{}\".format(mean_squared_error(y_true=y_train,y_pred=dt_pred_train)))\n",
    "print(\"The root mean squared error on train dataset:{}\".format(np.sqrt(mean_squared_error(y_true=y_train,y_pred=dt_pred_train))))\n"
   ]
  },
  {
   "cell_type": "code",
   "execution_count": 115,
   "metadata": {},
   "outputs": [
    {
     "name": "stdout",
     "output_type": "stream",
     "text": [
      "The mean absolute error on test dataset :63162.52922413335\n",
      "The mean squared error on test dataset:7581524894.165441\n",
      "The root mean squared error on test dataset:87071.9523966555\n"
     ]
    }
   ],
   "source": [
    "print(\"The mean absolute error on test dataset :{}\".format(mean_absolute_error(y_true=y_test,y_pred=dt_pred_test)))\n",
    "print(\"The mean squared error on test dataset:{}\".format(mean_squared_error(y_true=y_test,y_pred=dt_pred_test)))\n",
    "print(\"The root mean squared error on test dataset:{}\".format(np.sqrt(mean_squared_error(y_true=y_test,y_pred=dt_pred_test))))\n"
   ]
  },
  {
   "cell_type": "code",
   "execution_count": 116,
   "metadata": {},
   "outputs": [],
   "source": [
    "from sklearn.model_selection import RandomizedSearchCV\n",
    "from sklearn.ensemble import RandomForestRegressor\n",
    "from scipy.stats import randint as sp_randint"
   ]
  },
  {
   "cell_type": "code",
   "execution_count": 117,
   "metadata": {},
   "outputs": [],
   "source": [
    "rf_reg = RandomForestRegressor(n_estimators=20)\n",
    "param_dist ={\"max_depth\" :[3,5],\n",
    "            \"min_samples_split\":sp_randint(2.0,11.0),\n",
    "            \"max_features\":sp_randint(2.0,11.0),\n",
    "            \"bootstrap\":[\"True\",\"False\"],\n",
    "            \"criterion\" :[\"mse\"]}\n",
    "n_iter_search=200\n",
    "random_search = RandomizedSearchCV(rf_reg,param_distributions=param_dist,\n",
    "                                  n_iter=n_iter_search,cv=5,refit=True,\n",
    "                                  random_state=123)"
   ]
  },
  {
   "cell_type": "code",
   "execution_count": 119,
   "metadata": {},
   "outputs": [
    {
     "data": {
      "text/plain": [
       "RandomizedSearchCV(cv=5, error_score='raise-deprecating',\n",
       "                   estimator=RandomForestRegressor(bootstrap=True,\n",
       "                                                   criterion='mse',\n",
       "                                                   max_depth=None,\n",
       "                                                   max_features='auto',\n",
       "                                                   max_leaf_nodes=None,\n",
       "                                                   min_impurity_decrease=0.0,\n",
       "                                                   min_impurity_split=None,\n",
       "                                                   min_samples_leaf=1,\n",
       "                                                   min_samples_split=2,\n",
       "                                                   min_weight_fraction_leaf=0.0,\n",
       "                                                   n_estimators=20, n_jobs=None,\n",
       "                                                   oob_score=False,\n",
       "                                                   random_state=N...\n",
       "                   param_distributions={'bootstrap': ['True', 'False'],\n",
       "                                        'criterion': ['mse'],\n",
       "                                        'max_depth': [3, 5],\n",
       "                                        'max_features': <scipy.stats._distn_infrastructure.rv_frozen object at 0x1a2035bf60>,\n",
       "                                        'min_samples_split': <scipy.stats._distn_infrastructure.rv_frozen object at 0x1a2035bcc0>},\n",
       "                   pre_dispatch='2*n_jobs', random_state=123, refit=True,\n",
       "                   return_train_score=False, scoring=None, verbose=0)"
      ]
     },
     "execution_count": 119,
     "metadata": {},
     "output_type": "execute_result"
    }
   ],
   "source": [
    "random_search.fit(X_train,y_train)"
   ]
  },
  {
   "cell_type": "code",
   "execution_count": 120,
   "metadata": {},
   "outputs": [],
   "source": [
    "rf_pred_train = random_search.predict(X_train)\n",
    "rf_pred_test = random_search.predict(X_test)"
   ]
  },
  {
   "cell_type": "code",
   "execution_count": 121,
   "metadata": {},
   "outputs": [
    {
     "name": "stdout",
     "output_type": "stream",
     "text": [
      "The mean absolute error on train dataset :64526.76207653044\n",
      "The mean squared error on train dataset:7680213981.870503\n",
      "The root mean squared error on train dataset:87636.83005375367\n"
     ]
    }
   ],
   "source": [
    "print(\"The mean absolute error on train dataset :{}\".format(mean_absolute_error(y_true=y_train,y_pred=rf_pred_train)))\n",
    "print(\"The mean squared error on train dataset:{}\".format(mean_squared_error(y_true=y_train,y_pred=rf_pred_train)))\n",
    "print(\"The root mean squared error on train dataset:{}\".format(np.sqrt(mean_squared_error(y_true=y_train,y_pred=rf_pred_train))))\n"
   ]
  },
  {
   "cell_type": "code",
   "execution_count": 122,
   "metadata": {},
   "outputs": [
    {
     "name": "stdout",
     "output_type": "stream",
     "text": [
      "The mean absolute error on test dataset :64595.347072671364\n",
      "The mean squared error on test dataset:7745019227.18591\n",
      "The root mean squared error on test dataset:88005.79087302102\n",
      "The mean Absolute Percentage error on test dataset:28.73470083398537\n"
     ]
    }
   ],
   "source": [
    "print(\"The mean absolute error on test dataset :{}\".format(mean_absolute_error(y_true=y_test,y_pred=rf_pred_test)))\n",
    "print(\"The mean squared error on test dataset:{}\".format(mean_squared_error(y_true=y_test,y_pred=rf_pred_test)))\n",
    "print(\"The root mean squared error on test dataset:{}\".format(np.sqrt(mean_squared_error(y_true=y_test,y_pred=rf_pred_test))))\n",
    "def mape(y_true,y_pred):\n",
    "    y_true,y_pred = np.array(y_true),np.array(y_pred)\n",
    "    return np.mean(np.abs((y_true-y_pred)/y_true))*100\n",
    "print(\"The mean Absolute Percentage error on test dataset:{}\".format(mape(y_true=y_test,y_pred=rf_pred_test)))"
   ]
  },
  {
   "cell_type": "code",
   "execution_count": 125,
   "metadata": {},
   "outputs": [],
   "source": [
    "housing_values_test = pd.DataFrame()\n",
    "housing_values_test[['Actual_Values']]=housing_values_test.append(pd.DataFrame(y_test,columns=['resale_price']),ignore_index=True)\n",
    "housing_values_test[['Predicted_Values_RFReg']]=pd.DataFrame(random_search.predict(X_test))"
   ]
  },
  {
   "cell_type": "code",
   "execution_count": 126,
   "metadata": {},
   "outputs": [
    {
     "data": {
      "text/plain": [
       "Actual_Values             0\n",
       "Predicted_Values_RFReg    0\n",
       "dtype: int64"
      ]
     },
     "execution_count": 126,
     "metadata": {},
     "output_type": "execute_result"
    }
   ],
   "source": [
    "housing_values_test.isna().sum()"
   ]
  },
  {
   "cell_type": "markdown",
   "metadata": {},
   "source": [
    "### For the competition"
   ]
  },
  {
   "cell_type": "code",
   "execution_count": null,
   "metadata": {},
   "outputs": [],
   "source": [
    "train"
   ]
  },
  {
   "cell_type": "code",
   "execution_count": null,
   "metadata": {},
   "outputs": [],
   "source": [
    "test"
   ]
  },
  {
   "cell_type": "code",
   "execution_count": null,
   "metadata": {},
   "outputs": [],
   "source": [
    "train.columns"
   ]
  },
  {
   "cell_type": "code",
   "execution_count": null,
   "metadata": {},
   "outputs": [],
   "source": [
    "test[\"resale_price\"]=1.0"
   ]
  },
  {
   "cell_type": "code",
   "execution_count": null,
   "metadata": {},
   "outputs": [],
   "source": [
    "X_train=train.drop(['resale_price'],axis=1)\n",
    "y_train=train['resale_price']\n",
    "X_test=test.drop(['resale_price'],axis=1)\n",
    "y_test=test['resale_price']"
   ]
  },
  {
   "cell_type": "code",
   "execution_count": null,
   "metadata": {},
   "outputs": [],
   "source": [
    "lr_reg=LinearRegression()\n",
    "lr_reg.fit(X_train,y_train)"
   ]
  },
  {
   "cell_type": "code",
   "execution_count": null,
   "metadata": {},
   "outputs": [],
   "source": [
    "y_pred_train=lr_reg.predict(X_train)\n",
    "y_pred_test = lr_reg.predict(X_test)"
   ]
  },
  {
   "cell_type": "code",
   "execution_count": null,
   "metadata": {},
   "outputs": [],
   "source": [
    "print(\"The root mean Squared error on train dataset: {}\".format(np.sqrt(mean_squared_error(y_true=y_train,y_pred=y_pred_train))))"
   ]
  },
  {
   "cell_type": "code",
   "execution_count": null,
   "metadata": {},
   "outputs": [],
   "source": [
    "print(\"The root mean Squared error on train dataset: {}\".format(np.sqrt(mean_squared_error(y_true=y_test,y_pred=y_pred_test))))"
   ]
  },
  {
   "cell_type": "code",
   "execution_count": null,
   "metadata": {},
   "outputs": [],
   "source": []
  }
 ],
 "metadata": {
  "kernelspec": {
   "display_name": "Python 3",
   "language": "python",
   "name": "python3"
  },
  "language_info": {
   "codemirror_mode": {
    "name": "ipython",
    "version": 3
   },
   "file_extension": ".py",
   "mimetype": "text/x-python",
   "name": "python",
   "nbconvert_exporter": "python",
   "pygments_lexer": "ipython3",
   "version": "3.7.4"
  }
 },
 "nbformat": 4,
 "nbformat_minor": 2
}
